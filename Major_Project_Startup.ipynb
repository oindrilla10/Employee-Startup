{
  "nbformat": 4,
  "nbformat_minor": 0,
  "metadata": {
    "colab": {
      "name": "Major Project Startup.ipynb",
      "provenance": [],
      "collapsed_sections": []
    },
    "kernelspec": {
      "name": "python3",
      "display_name": "Python 3"
    },
    "language_info": {
      "name": "python"
    },
    "widgets": {
      "application/vnd.jupyter.widget-state+json": {
        "ff22cdf3c9854e3482f05a98bba83dce": {
          "model_module": "@jupyter-widgets/controls",
          "model_name": "VBoxModel",
          "model_module_version": "1.5.0",
          "state": {
            "_view_name": "VBoxView",
            "_dom_classes": [
              "widget-interact"
            ],
            "_model_name": "VBoxModel",
            "_view_module": "@jupyter-widgets/controls",
            "_model_module_version": "1.5.0",
            "_view_count": null,
            "_view_module_version": "1.5.0",
            "box_style": "",
            "layout": "IPY_MODEL_6488e7fbbd974a048b785060d58a2b5c",
            "_model_module": "@jupyter-widgets/controls",
            "children": [
              "IPY_MODEL_d0432c0aeaae43f684e61b124d970560",
              "IPY_MODEL_a1caa0f0372b4e27bd75044fe09752ab",
              "IPY_MODEL_44b0f4645f43437ea55f12292b8764d9"
            ]
          }
        },
        "6488e7fbbd974a048b785060d58a2b5c": {
          "model_module": "@jupyter-widgets/base",
          "model_name": "LayoutModel",
          "model_module_version": "1.2.0",
          "state": {
            "_view_name": "LayoutView",
            "grid_template_rows": null,
            "right": null,
            "justify_content": null,
            "_view_module": "@jupyter-widgets/base",
            "overflow": null,
            "_model_module_version": "1.2.0",
            "_view_count": null,
            "flex_flow": null,
            "width": null,
            "min_width": null,
            "border": null,
            "align_items": null,
            "bottom": null,
            "_model_module": "@jupyter-widgets/base",
            "top": null,
            "grid_column": null,
            "overflow_y": null,
            "overflow_x": null,
            "grid_auto_flow": null,
            "grid_area": null,
            "grid_template_columns": null,
            "flex": null,
            "_model_name": "LayoutModel",
            "justify_items": null,
            "grid_row": null,
            "max_height": null,
            "align_content": null,
            "visibility": null,
            "align_self": null,
            "height": null,
            "min_height": null,
            "padding": null,
            "grid_auto_rows": null,
            "grid_gap": null,
            "max_width": null,
            "order": null,
            "_view_module_version": "1.2.0",
            "grid_template_areas": null,
            "object_position": null,
            "object_fit": null,
            "grid_auto_columns": null,
            "margin": null,
            "display": null,
            "left": null
          }
        },
        "d0432c0aeaae43f684e61b124d970560": {
          "model_module": "@jupyter-widgets/controls",
          "model_name": "TextModel",
          "model_module_version": "1.5.0",
          "state": {
            "_view_name": "TextView",
            "style": "IPY_MODEL_dd724331571d493aadab81682990ecd5",
            "_dom_classes": [],
            "description": "column",
            "_model_name": "TextModel",
            "placeholder": "​",
            "_view_module": "@jupyter-widgets/controls",
            "_model_module_version": "1.5.0",
            "value": "AmountInUSD",
            "_view_count": null,
            "disabled": false,
            "_view_module_version": "1.5.0",
            "continuous_update": true,
            "description_tooltip": null,
            "_model_module": "@jupyter-widgets/controls",
            "layout": "IPY_MODEL_556bf1919a474d92ae5196b3d1516606"
          }
        },
        "a1caa0f0372b4e27bd75044fe09752ab": {
          "model_module": "@jupyter-widgets/controls",
          "model_name": "IntSliderModel",
          "model_module_version": "1.5.0",
          "state": {
            "_view_name": "IntSliderView",
            "style": "IPY_MODEL_3e2eee5d10144923926f9c0537863e5b",
            "_dom_classes": [],
            "description": "x",
            "step": 1,
            "_model_name": "IntSliderModel",
            "orientation": "horizontal",
            "max": 1500000000,
            "_view_module": "@jupyter-widgets/controls",
            "_model_module_version": "1.5.0",
            "value": 500000000,
            "_view_count": null,
            "disabled": false,
            "_view_module_version": "1.5.0",
            "min": -500000000,
            "continuous_update": true,
            "readout_format": "d",
            "description_tooltip": null,
            "readout": true,
            "_model_module": "@jupyter-widgets/controls",
            "layout": "IPY_MODEL_880a2a6cbecb47138d1168ad1b0a2019"
          }
        },
        "44b0f4645f43437ea55f12292b8764d9": {
          "model_module": "@jupyter-widgets/output",
          "model_name": "OutputModel",
          "model_module_version": "1.0.0",
          "state": {
            "_view_name": "OutputView",
            "msg_id": "",
            "_dom_classes": [],
            "_model_name": "OutputModel",
            "outputs": [
              {
                "output_type": "display_data",
                "data": {
                  "text/html": "<div>\n<style scoped>\n    .dataframe tbody tr th:only-of-type {\n        vertical-align: middle;\n    }\n\n    .dataframe tbody tr th {\n        vertical-align: top;\n    }\n\n    .dataframe thead th {\n        text-align: right;\n    }\n</style>\n<table border=\"1\" class=\"dataframe\">\n  <thead>\n    <tr style=\"text-align: right;\">\n      <th></th>\n      <th>SNo</th>\n      <th>Date</th>\n      <th>StartupName</th>\n      <th>IndustryVertical</th>\n      <th>SubVertical</th>\n      <th>City</th>\n      <th>InvestorsName</th>\n      <th>InvestmentType</th>\n      <th>AmountInUSD</th>\n    </tr>\n  </thead>\n  <tbody>\n    <tr>\n      <th>60</th>\n      <td>61</td>\n      <td>27/08/2019</td>\n      <td>Rapido Bike Taxi</td>\n      <td>Transportation</td>\n      <td>Bike Taxi</td>\n      <td>Bengaluru</td>\n      <td>Westbridge Capital</td>\n      <td>Series B</td>\n      <td>3.900000e+09</td>\n    </tr>\n    <tr>\n      <th>651</th>\n      <td>652</td>\n      <td>11/08/2017</td>\n      <td>Flipkart</td>\n      <td>eCommerce</td>\n      <td>Online Marketplace</td>\n      <td>Bangalore</td>\n      <td>Softbank</td>\n      <td>Private Equity</td>\n      <td>2.500000e+09</td>\n    </tr>\n    <tr>\n      <th>83</th>\n      <td>84</td>\n      <td>06/06/2019</td>\n      <td>Pratilipi</td>\n      <td>Digital Media</td>\n      <td>E-Books</td>\n      <td>Bengaluru</td>\n      <td>Qiming Venture Partners</td>\n      <td>Series B</td>\n      <td>1.510950e+09</td>\n    </tr>\n    <tr>\n      <th>830</th>\n      <td>831</td>\n      <td>18/05/2017</td>\n      <td>Paytm</td>\n      <td>ECommerce</td>\n      <td>Mobile Wallet &amp; ECommerce platform</td>\n      <td>Bangalore</td>\n      <td>SoftBank Group</td>\n      <td>Private Equity</td>\n      <td>1.400000e+09</td>\n    </tr>\n    <tr>\n      <th>966</th>\n      <td>967</td>\n      <td>21/03/2017</td>\n      <td>Flipkart</td>\n      <td>eCommerce</td>\n      <td>ECommerce Marketplace</td>\n      <td>Bangalore</td>\n      <td>Microsoft, eBay, Tencent Holdings</td>\n      <td>Private Equity</td>\n      <td>1.400000e+09</td>\n    </tr>\n    <tr>\n      <th>31</th>\n      <td>32</td>\n      <td>25/11/2019</td>\n      <td>Paytm</td>\n      <td>FinTech</td>\n      <td>Mobile Wallet</td>\n      <td>Noida</td>\n      <td>Vijay Shekhar Sharma</td>\n      <td>Funding Round</td>\n      <td>1.000000e+09</td>\n    </tr>\n    <tr>\n      <th>2648</th>\n      <td>2649</td>\n      <td>28/07/2015</td>\n      <td>Flipkart.com</td>\n      <td>Online Marketplace</td>\n      <td>nan</td>\n      <td>Bangalore</td>\n      <td>Steadview Capital and existing investors</td>\n      <td>Private Equity</td>\n      <td>7.000000e+08</td>\n    </tr>\n    <tr>\n      <th>2459</th>\n      <td>2460</td>\n      <td>29/09/2015</td>\n      <td>Paytm</td>\n      <td>E-Commerce &amp; M-Commerce platform</td>\n      <td>nan</td>\n      <td>New Delhi</td>\n      <td>Alibaba Group, Ant Financial</td>\n      <td>Private Equity</td>\n      <td>6.800000e+08</td>\n    </tr>\n    <tr>\n      <th>188</th>\n      <td>189</td>\n      <td>30/08/2018</td>\n      <td>True North</td>\n      <td>Finance</td>\n      <td>Private Equity Firm</td>\n      <td>Mumbai</td>\n      <td>nan</td>\n      <td>Private Equity</td>\n      <td>6.000000e+08</td>\n    </tr>\n    <tr>\n      <th>33</th>\n      <td>34</td>\n      <td>02/10/2019</td>\n      <td>Udaan</td>\n      <td>B2B</td>\n      <td>Business development</td>\n      <td>Bengaluru</td>\n      <td>Altimeter Capital, DST Global</td>\n      <td>Series D</td>\n      <td>5.850000e+08</td>\n    </tr>\n  </tbody>\n</table>\n</div>",
                  "text/plain": "       SNo        Date  ...  InvestmentType   AmountInUSD\n60      61  27/08/2019  ...        Series B  3.900000e+09\n651    652  11/08/2017  ...  Private Equity  2.500000e+09\n83      84  06/06/2019  ...        Series B  1.510950e+09\n830    831  18/05/2017  ...  Private Equity  1.400000e+09\n966    967  21/03/2017  ...  Private Equity  1.400000e+09\n31      32  25/11/2019  ...   Funding Round  1.000000e+09\n2648  2649  28/07/2015  ...  Private Equity  7.000000e+08\n2459  2460  29/09/2015  ...  Private Equity  6.800000e+08\n188    189  30/08/2018  ...  Private Equity  6.000000e+08\n33      34  02/10/2019  ...        Series D  5.850000e+08\n\n[10 rows x 9 columns]"
                },
                "metadata": {}
              }
            ],
            "_view_module": "@jupyter-widgets/output",
            "_model_module_version": "1.0.0",
            "_view_count": null,
            "_view_module_version": "1.0.0",
            "layout": "IPY_MODEL_0def305b58ed4042b631e47581b9e1aa",
            "_model_module": "@jupyter-widgets/output"
          }
        },
        "dd724331571d493aadab81682990ecd5": {
          "model_module": "@jupyter-widgets/controls",
          "model_name": "DescriptionStyleModel",
          "model_module_version": "1.5.0",
          "state": {
            "_view_name": "StyleView",
            "_model_name": "DescriptionStyleModel",
            "description_width": "",
            "_view_module": "@jupyter-widgets/base",
            "_model_module_version": "1.5.0",
            "_view_count": null,
            "_view_module_version": "1.2.0",
            "_model_module": "@jupyter-widgets/controls"
          }
        },
        "556bf1919a474d92ae5196b3d1516606": {
          "model_module": "@jupyter-widgets/base",
          "model_name": "LayoutModel",
          "model_module_version": "1.2.0",
          "state": {
            "_view_name": "LayoutView",
            "grid_template_rows": null,
            "right": null,
            "justify_content": null,
            "_view_module": "@jupyter-widgets/base",
            "overflow": null,
            "_model_module_version": "1.2.0",
            "_view_count": null,
            "flex_flow": null,
            "width": null,
            "min_width": null,
            "border": null,
            "align_items": null,
            "bottom": null,
            "_model_module": "@jupyter-widgets/base",
            "top": null,
            "grid_column": null,
            "overflow_y": null,
            "overflow_x": null,
            "grid_auto_flow": null,
            "grid_area": null,
            "grid_template_columns": null,
            "flex": null,
            "_model_name": "LayoutModel",
            "justify_items": null,
            "grid_row": null,
            "max_height": null,
            "align_content": null,
            "visibility": null,
            "align_self": null,
            "height": null,
            "min_height": null,
            "padding": null,
            "grid_auto_rows": null,
            "grid_gap": null,
            "max_width": null,
            "order": null,
            "_view_module_version": "1.2.0",
            "grid_template_areas": null,
            "object_position": null,
            "object_fit": null,
            "grid_auto_columns": null,
            "margin": null,
            "display": null,
            "left": null
          }
        },
        "3e2eee5d10144923926f9c0537863e5b": {
          "model_module": "@jupyter-widgets/controls",
          "model_name": "SliderStyleModel",
          "model_module_version": "1.5.0",
          "state": {
            "_view_name": "StyleView",
            "handle_color": null,
            "_model_name": "SliderStyleModel",
            "description_width": "",
            "_view_module": "@jupyter-widgets/base",
            "_model_module_version": "1.5.0",
            "_view_count": null,
            "_view_module_version": "1.2.0",
            "_model_module": "@jupyter-widgets/controls"
          }
        },
        "880a2a6cbecb47138d1168ad1b0a2019": {
          "model_module": "@jupyter-widgets/base",
          "model_name": "LayoutModel",
          "model_module_version": "1.2.0",
          "state": {
            "_view_name": "LayoutView",
            "grid_template_rows": null,
            "right": null,
            "justify_content": null,
            "_view_module": "@jupyter-widgets/base",
            "overflow": null,
            "_model_module_version": "1.2.0",
            "_view_count": null,
            "flex_flow": null,
            "width": null,
            "min_width": null,
            "border": null,
            "align_items": null,
            "bottom": null,
            "_model_module": "@jupyter-widgets/base",
            "top": null,
            "grid_column": null,
            "overflow_y": null,
            "overflow_x": null,
            "grid_auto_flow": null,
            "grid_area": null,
            "grid_template_columns": null,
            "flex": null,
            "_model_name": "LayoutModel",
            "justify_items": null,
            "grid_row": null,
            "max_height": null,
            "align_content": null,
            "visibility": null,
            "align_self": null,
            "height": null,
            "min_height": null,
            "padding": null,
            "grid_auto_rows": null,
            "grid_gap": null,
            "max_width": null,
            "order": null,
            "_view_module_version": "1.2.0",
            "grid_template_areas": null,
            "object_position": null,
            "object_fit": null,
            "grid_auto_columns": null,
            "margin": null,
            "display": null,
            "left": null
          }
        },
        "0def305b58ed4042b631e47581b9e1aa": {
          "model_module": "@jupyter-widgets/base",
          "model_name": "LayoutModel",
          "model_module_version": "1.2.0",
          "state": {
            "_view_name": "LayoutView",
            "grid_template_rows": null,
            "right": null,
            "justify_content": null,
            "_view_module": "@jupyter-widgets/base",
            "overflow": null,
            "_model_module_version": "1.2.0",
            "_view_count": null,
            "flex_flow": null,
            "width": null,
            "min_width": null,
            "border": null,
            "align_items": null,
            "bottom": null,
            "_model_module": "@jupyter-widgets/base",
            "top": null,
            "grid_column": null,
            "overflow_y": null,
            "overflow_x": null,
            "grid_auto_flow": null,
            "grid_area": null,
            "grid_template_columns": null,
            "flex": null,
            "_model_name": "LayoutModel",
            "justify_items": null,
            "grid_row": null,
            "max_height": null,
            "align_content": null,
            "visibility": null,
            "align_self": null,
            "height": null,
            "min_height": null,
            "padding": null,
            "grid_auto_rows": null,
            "grid_gap": null,
            "max_width": null,
            "order": null,
            "_view_module_version": "1.2.0",
            "grid_template_areas": null,
            "object_position": null,
            "object_fit": null,
            "grid_auto_columns": null,
            "margin": null,
            "display": null,
            "left": null
          }
        }
      }
    }
  },
  "cells": [
    {
      "cell_type": "markdown",
      "metadata": {
        "id": "tJdjUUebD_QL"
      },
      "source": [
        "Submitted by: Oindrilla Banerjee\n"
      ]
    },
    {
      "cell_type": "code",
      "metadata": {
        "id": "vpDu1IUW2W8c"
      },
      "source": [
        "import numpy as np\n",
        "import pandas as pd\n",
        "import matplotlib.pyplot as plt\n",
        "import seaborn as sns\n",
        "%matplotlib inline\n"
      ],
      "execution_count": 1,
      "outputs": []
    },
    {
      "cell_type": "code",
      "metadata": {
        "id": "fGIOLQ5X33-q"
      },
      "source": [
        "import warnings\n",
        "warnings.filterwarnings('ignore')\n"
      ],
      "execution_count": 2,
      "outputs": []
    },
    {
      "cell_type": "code",
      "metadata": {
        "id": "PcxFg86P4LYz"
      },
      "source": [
        "data = pd.read_csv('startup_funding.csv')"
      ],
      "execution_count": 3,
      "outputs": []
    },
    {
      "cell_type": "code",
      "metadata": {
        "colab": {
          "base_uri": "https://localhost:8080/",
          "height": 719
        },
        "id": "F5LZ2l_N90Fa",
        "outputId": "ff0f1636-59ba-4d27-c8dc-b2e3b429847f"
      },
      "source": [
        "data"
      ],
      "execution_count": 4,
      "outputs": [
        {
          "output_type": "execute_result",
          "data": {
            "text/html": [
              "<div>\n",
              "<style scoped>\n",
              "    .dataframe tbody tr th:only-of-type {\n",
              "        vertical-align: middle;\n",
              "    }\n",
              "\n",
              "    .dataframe tbody tr th {\n",
              "        vertical-align: top;\n",
              "    }\n",
              "\n",
              "    .dataframe thead th {\n",
              "        text-align: right;\n",
              "    }\n",
              "</style>\n",
              "<table border=\"1\" class=\"dataframe\">\n",
              "  <thead>\n",
              "    <tr style=\"text-align: right;\">\n",
              "      <th></th>\n",
              "      <th>Sr No</th>\n",
              "      <th>Date dd/mm/yyyy</th>\n",
              "      <th>Startup Name</th>\n",
              "      <th>Industry Vertical</th>\n",
              "      <th>SubVertical</th>\n",
              "      <th>City  Location</th>\n",
              "      <th>Investors Name</th>\n",
              "      <th>InvestmentnType</th>\n",
              "      <th>Amount in USD</th>\n",
              "      <th>Remarks</th>\n",
              "    </tr>\n",
              "  </thead>\n",
              "  <tbody>\n",
              "    <tr>\n",
              "      <th>0</th>\n",
              "      <td>1</td>\n",
              "      <td>09/01/2020</td>\n",
              "      <td>BYJU’S</td>\n",
              "      <td>E-Tech</td>\n",
              "      <td>E-learning</td>\n",
              "      <td>Bengaluru</td>\n",
              "      <td>Tiger Global Management</td>\n",
              "      <td>Private Equity Round</td>\n",
              "      <td>20,00,00,000</td>\n",
              "      <td>NaN</td>\n",
              "    </tr>\n",
              "    <tr>\n",
              "      <th>1</th>\n",
              "      <td>2</td>\n",
              "      <td>13/01/2020</td>\n",
              "      <td>Shuttl</td>\n",
              "      <td>Transportation</td>\n",
              "      <td>App based shuttle service</td>\n",
              "      <td>Gurgaon</td>\n",
              "      <td>Susquehanna Growth Equity</td>\n",
              "      <td>Series C</td>\n",
              "      <td>80,48,394</td>\n",
              "      <td>NaN</td>\n",
              "    </tr>\n",
              "    <tr>\n",
              "      <th>2</th>\n",
              "      <td>3</td>\n",
              "      <td>09/01/2020</td>\n",
              "      <td>Mamaearth</td>\n",
              "      <td>E-commerce</td>\n",
              "      <td>Retailer of baby and toddler products</td>\n",
              "      <td>Bengaluru</td>\n",
              "      <td>Sequoia Capital India</td>\n",
              "      <td>Series B</td>\n",
              "      <td>1,83,58,860</td>\n",
              "      <td>NaN</td>\n",
              "    </tr>\n",
              "    <tr>\n",
              "      <th>3</th>\n",
              "      <td>4</td>\n",
              "      <td>02/01/2020</td>\n",
              "      <td>https://www.wealthbucket.in/</td>\n",
              "      <td>FinTech</td>\n",
              "      <td>Online Investment</td>\n",
              "      <td>New Delhi</td>\n",
              "      <td>Vinod Khatumal</td>\n",
              "      <td>Pre-series A</td>\n",
              "      <td>30,00,000</td>\n",
              "      <td>NaN</td>\n",
              "    </tr>\n",
              "    <tr>\n",
              "      <th>4</th>\n",
              "      <td>5</td>\n",
              "      <td>02/01/2020</td>\n",
              "      <td>Fashor</td>\n",
              "      <td>Fashion and Apparel</td>\n",
              "      <td>Embroiled Clothes For Women</td>\n",
              "      <td>Mumbai</td>\n",
              "      <td>Sprout Venture Partners</td>\n",
              "      <td>Seed Round</td>\n",
              "      <td>18,00,000</td>\n",
              "      <td>NaN</td>\n",
              "    </tr>\n",
              "    <tr>\n",
              "      <th>...</th>\n",
              "      <td>...</td>\n",
              "      <td>...</td>\n",
              "      <td>...</td>\n",
              "      <td>...</td>\n",
              "      <td>...</td>\n",
              "      <td>...</td>\n",
              "      <td>...</td>\n",
              "      <td>...</td>\n",
              "      <td>...</td>\n",
              "      <td>...</td>\n",
              "    </tr>\n",
              "    <tr>\n",
              "      <th>3039</th>\n",
              "      <td>3040</td>\n",
              "      <td>29/01/2015</td>\n",
              "      <td>Printvenue</td>\n",
              "      <td>NaN</td>\n",
              "      <td>NaN</td>\n",
              "      <td>NaN</td>\n",
              "      <td>Asia Pacific Internet Group</td>\n",
              "      <td>Private Equity</td>\n",
              "      <td>45,00,000</td>\n",
              "      <td>NaN</td>\n",
              "    </tr>\n",
              "    <tr>\n",
              "      <th>3040</th>\n",
              "      <td>3041</td>\n",
              "      <td>29/01/2015</td>\n",
              "      <td>Graphene</td>\n",
              "      <td>NaN</td>\n",
              "      <td>NaN</td>\n",
              "      <td>NaN</td>\n",
              "      <td>KARSEMVEN Fund</td>\n",
              "      <td>Private Equity</td>\n",
              "      <td>8,25,000</td>\n",
              "      <td>Govt backed VC Fund</td>\n",
              "    </tr>\n",
              "    <tr>\n",
              "      <th>3041</th>\n",
              "      <td>3042</td>\n",
              "      <td>30/01/2015</td>\n",
              "      <td>Mad Street Den</td>\n",
              "      <td>NaN</td>\n",
              "      <td>NaN</td>\n",
              "      <td>NaN</td>\n",
              "      <td>Exfinity Fund, GrowX Ventures.</td>\n",
              "      <td>Private Equity</td>\n",
              "      <td>15,00,000</td>\n",
              "      <td>NaN</td>\n",
              "    </tr>\n",
              "    <tr>\n",
              "      <th>3042</th>\n",
              "      <td>3043</td>\n",
              "      <td>30/01/2015</td>\n",
              "      <td>Simplotel</td>\n",
              "      <td>NaN</td>\n",
              "      <td>NaN</td>\n",
              "      <td>NaN</td>\n",
              "      <td>MakeMyTrip</td>\n",
              "      <td>Private Equity</td>\n",
              "      <td>NaN</td>\n",
              "      <td>Strategic Funding, Minority stake</td>\n",
              "    </tr>\n",
              "    <tr>\n",
              "      <th>3043</th>\n",
              "      <td>3044</td>\n",
              "      <td>31/01/2015</td>\n",
              "      <td>couponmachine.in</td>\n",
              "      <td>NaN</td>\n",
              "      <td>NaN</td>\n",
              "      <td>NaN</td>\n",
              "      <td>UK based Group of Angel Investors</td>\n",
              "      <td>Seed Funding</td>\n",
              "      <td>1,40,000</td>\n",
              "      <td>NaN</td>\n",
              "    </tr>\n",
              "  </tbody>\n",
              "</table>\n",
              "<p>3044 rows × 10 columns</p>\n",
              "</div>"
            ],
            "text/plain": [
              "      Sr No Date dd/mm/yyyy  ... Amount in USD                            Remarks\n",
              "0         1      09/01/2020  ...  20,00,00,000                                NaN\n",
              "1         2      13/01/2020  ...     80,48,394                                NaN\n",
              "2         3      09/01/2020  ...   1,83,58,860                                NaN\n",
              "3         4      02/01/2020  ...     30,00,000                                NaN\n",
              "4         5      02/01/2020  ...     18,00,000                                NaN\n",
              "...     ...             ...  ...           ...                                ...\n",
              "3039   3040      29/01/2015  ...     45,00,000                                NaN\n",
              "3040   3041      29/01/2015  ...      8,25,000                Govt backed VC Fund\n",
              "3041   3042      30/01/2015  ...     15,00,000                                NaN\n",
              "3042   3043      30/01/2015  ...           NaN  Strategic Funding, Minority stake\n",
              "3043   3044      31/01/2015  ...      1,40,000                                NaN\n",
              "\n",
              "[3044 rows x 10 columns]"
            ]
          },
          "metadata": {},
          "execution_count": 4
        }
      ]
    },
    {
      "cell_type": "code",
      "metadata": {
        "id": "0nxcsqGG92mV"
      },
      "source": [
        "# Creating consistent column names\n",
        "data.columns = [\"SNo\", \"Date\", \"StartupName\", \"IndustryVertical\", \"SubVertical\",\n",
        " \"City\", \"InvestorsName\", \"InvestmentType\", \"AmountInUSD\", \"Remarks\"]\n"
      ],
      "execution_count": 5,
      "outputs": []
    },
    {
      "cell_type": "code",
      "metadata": {
        "colab": {
          "base_uri": "https://localhost:8080/",
          "height": 0
        },
        "id": "6gjXwUGp98lv",
        "outputId": "4959dae9-82af-4bba-ae25-5c036b9c8454"
      },
      "source": [
        "data.info()"
      ],
      "execution_count": 6,
      "outputs": [
        {
          "output_type": "stream",
          "name": "stdout",
          "text": [
            "<class 'pandas.core.frame.DataFrame'>\n",
            "RangeIndex: 3044 entries, 0 to 3043\n",
            "Data columns (total 10 columns):\n",
            " #   Column            Non-Null Count  Dtype \n",
            "---  ------            --------------  ----- \n",
            " 0   SNo               3044 non-null   int64 \n",
            " 1   Date              3044 non-null   object\n",
            " 2   StartupName       3044 non-null   object\n",
            " 3   IndustryVertical  2873 non-null   object\n",
            " 4   SubVertical       2108 non-null   object\n",
            " 5   City              2864 non-null   object\n",
            " 6   InvestorsName     3020 non-null   object\n",
            " 7   InvestmentType    3040 non-null   object\n",
            " 8   AmountInUSD       2084 non-null   object\n",
            " 9   Remarks           419 non-null    object\n",
            "dtypes: int64(1), object(9)\n",
            "memory usage: 237.9+ KB\n"
          ]
        }
      ]
    },
    {
      "cell_type": "code",
      "metadata": {
        "id": "6ipip0D4-HN6"
      },
      "source": [
        "# define the function to clean strings\n",
        "def clean_string(x):\n",
        " return str(x).replace(\"\\\\xc2\\\\xa0\",\"\").replace(\"\\\\\\\\xc2\\\\\\\\xa0\", \"\")\n",
        "# lets apply the function to clean the data\n",
        "for col in [\"StartupName\", \"IndustryVertical\", \"SubVertical\", \"City\", \n",
        " \"InvestorsName\", \"InvestmentType\", \"AmountInUSD\", \"Remarks\"]:\n",
        " data[col] = data[col].apply(lambda x: clean_string(x))"
      ],
      "execution_count": 7,
      "outputs": []
    },
    {
      "cell_type": "code",
      "metadata": {
        "colab": {
          "base_uri": "https://localhost:8080/",
          "height": 287
        },
        "id": "oFJb7qcN-SC5",
        "outputId": "29e48141-af4c-41be-9599-f4cc84459d21"
      },
      "source": [
        "data.head()\n"
      ],
      "execution_count": 8,
      "outputs": [
        {
          "output_type": "execute_result",
          "data": {
            "text/html": [
              "<div>\n",
              "<style scoped>\n",
              "    .dataframe tbody tr th:only-of-type {\n",
              "        vertical-align: middle;\n",
              "    }\n",
              "\n",
              "    .dataframe tbody tr th {\n",
              "        vertical-align: top;\n",
              "    }\n",
              "\n",
              "    .dataframe thead th {\n",
              "        text-align: right;\n",
              "    }\n",
              "</style>\n",
              "<table border=\"1\" class=\"dataframe\">\n",
              "  <thead>\n",
              "    <tr style=\"text-align: right;\">\n",
              "      <th></th>\n",
              "      <th>SNo</th>\n",
              "      <th>Date</th>\n",
              "      <th>StartupName</th>\n",
              "      <th>IndustryVertical</th>\n",
              "      <th>SubVertical</th>\n",
              "      <th>City</th>\n",
              "      <th>InvestorsName</th>\n",
              "      <th>InvestmentType</th>\n",
              "      <th>AmountInUSD</th>\n",
              "      <th>Remarks</th>\n",
              "    </tr>\n",
              "  </thead>\n",
              "  <tbody>\n",
              "    <tr>\n",
              "      <th>0</th>\n",
              "      <td>1</td>\n",
              "      <td>09/01/2020</td>\n",
              "      <td>BYJU’S</td>\n",
              "      <td>E-Tech</td>\n",
              "      <td>E-learning</td>\n",
              "      <td>Bengaluru</td>\n",
              "      <td>Tiger Global Management</td>\n",
              "      <td>Private Equity Round</td>\n",
              "      <td>20,00,00,000</td>\n",
              "      <td>nan</td>\n",
              "    </tr>\n",
              "    <tr>\n",
              "      <th>1</th>\n",
              "      <td>2</td>\n",
              "      <td>13/01/2020</td>\n",
              "      <td>Shuttl</td>\n",
              "      <td>Transportation</td>\n",
              "      <td>App based shuttle service</td>\n",
              "      <td>Gurgaon</td>\n",
              "      <td>Susquehanna Growth Equity</td>\n",
              "      <td>Series C</td>\n",
              "      <td>80,48,394</td>\n",
              "      <td>nan</td>\n",
              "    </tr>\n",
              "    <tr>\n",
              "      <th>2</th>\n",
              "      <td>3</td>\n",
              "      <td>09/01/2020</td>\n",
              "      <td>Mamaearth</td>\n",
              "      <td>E-commerce</td>\n",
              "      <td>Retailer of baby and toddler products</td>\n",
              "      <td>Bengaluru</td>\n",
              "      <td>Sequoia Capital India</td>\n",
              "      <td>Series B</td>\n",
              "      <td>1,83,58,860</td>\n",
              "      <td>nan</td>\n",
              "    </tr>\n",
              "    <tr>\n",
              "      <th>3</th>\n",
              "      <td>4</td>\n",
              "      <td>02/01/2020</td>\n",
              "      <td>https://www.wealthbucket.in/</td>\n",
              "      <td>FinTech</td>\n",
              "      <td>Online Investment</td>\n",
              "      <td>New Delhi</td>\n",
              "      <td>Vinod Khatumal</td>\n",
              "      <td>Pre-series A</td>\n",
              "      <td>30,00,000</td>\n",
              "      <td>nan</td>\n",
              "    </tr>\n",
              "    <tr>\n",
              "      <th>4</th>\n",
              "      <td>5</td>\n",
              "      <td>02/01/2020</td>\n",
              "      <td>Fashor</td>\n",
              "      <td>Fashion and Apparel</td>\n",
              "      <td>Embroiled Clothes For Women</td>\n",
              "      <td>Mumbai</td>\n",
              "      <td>Sprout Venture Partners</td>\n",
              "      <td>Seed Round</td>\n",
              "      <td>18,00,000</td>\n",
              "      <td>nan</td>\n",
              "    </tr>\n",
              "  </tbody>\n",
              "</table>\n",
              "</div>"
            ],
            "text/plain": [
              "   SNo        Date  ...   AmountInUSD Remarks\n",
              "0    1  09/01/2020  ...  20,00,00,000     nan\n",
              "1    2  13/01/2020  ...     80,48,394     nan\n",
              "2    3  09/01/2020  ...   1,83,58,860     nan\n",
              "3    4  02/01/2020  ...     30,00,000     nan\n",
              "4    5  02/01/2020  ...     18,00,000     nan\n",
              "\n",
              "[5 rows x 10 columns]"
            ]
          },
          "metadata": {},
          "execution_count": 8
        }
      ]
    },
    {
      "cell_type": "code",
      "metadata": {
        "colab": {
          "base_uri": "https://localhost:8080/",
          "height": 0
        },
        "id": "tahydDhI-XAH",
        "outputId": "5bb7065f-4ad4-4898-ea42-c7880fb6f9c2"
      },
      "source": [
        "# lets check the shape of the data\n",
        "print(\"Size of data\", data.shape)"
      ],
      "execution_count": 9,
      "outputs": [
        {
          "output_type": "stream",
          "name": "stdout",
          "text": [
            "Size of data (3044, 10)\n"
          ]
        }
      ]
    },
    {
      "cell_type": "markdown",
      "metadata": {
        "id": "Eb1dcgW6-cFN"
      },
      "source": [
        "DATA CLEANING"
      ]
    },
    {
      "cell_type": "code",
      "metadata": {
        "id": "W2cdU7yx-ZmM"
      },
      "source": [
        "# Lets calculate the total missing values in our data\n",
        "total = data.isnull().sum().sort_values(ascending = False)\n"
      ],
      "execution_count": 10,
      "outputs": []
    },
    {
      "cell_type": "code",
      "metadata": {
        "id": "LxWBCA89-iKX"
      },
      "source": [
        "# Lets calculate the percentage of missing values\n",
        "perc = ((data.isnull().sum()/data.isnull().count())*100).sort_values(ascending = False)\n"
      ],
      "execution_count": 11,
      "outputs": []
    },
    {
      "cell_type": "code",
      "metadata": {
        "id": "Hp0ToHsH-lr0"
      },
      "source": [
        "missing_data = pd.concat([total, perc], axis = 1, keys = [\"Total\", \"Percentage %\"])"
      ],
      "execution_count": 12,
      "outputs": []
    },
    {
      "cell_type": "code",
      "metadata": {
        "colab": {
          "base_uri": "https://localhost:8080/",
          "height": 0
        },
        "id": "iNI-A6Fu-pyj",
        "outputId": "553888f7-658a-432a-a75a-5f4796f37c6d"
      },
      "source": [
        "print(missing_data)\n"
      ],
      "execution_count": 13,
      "outputs": [
        {
          "output_type": "stream",
          "name": "stdout",
          "text": [
            "                  Total  Percentage %\n",
            "Remarks               0           0.0\n",
            "AmountInUSD           0           0.0\n",
            "InvestmentType        0           0.0\n",
            "InvestorsName         0           0.0\n",
            "City                  0           0.0\n",
            "SubVertical           0           0.0\n",
            "IndustryVertical      0           0.0\n",
            "StartupName           0           0.0\n",
            "Date                  0           0.0\n",
            "SNo                   0           0.0\n"
          ]
        }
      ]
    },
    {
      "cell_type": "code",
      "metadata": {
        "colab": {
          "base_uri": "https://localhost:8080/",
          "height": 0
        },
        "id": "qTvl8583-sZ9",
        "outputId": "acf43dca-41aa-4fb1-d4da-9e0a389793c8"
      },
      "source": [
        "# checking the remarks column for useful information\n",
        "data[\"Remarks\"].value_counts()\n"
      ],
      "execution_count": 14,
      "outputs": [
        {
          "output_type": "execute_result",
          "data": {
            "text/plain": [
              "nan                                       2625\n",
              "Series A                                   177\n",
              "Series B                                    64\n",
              "Pre-Series A                                37\n",
              "Series C                                    28\n",
              "                                          ... \n",
              "Series E                                     1\n",
              "2nd seed funding                             1\n",
              "late Stage (part of $500M funding rnd)       1\n",
              "For mobile app                               1\n",
              "Series C\\\\n(More here)                       1\n",
              "Name: Remarks, Length: 70, dtype: int64"
            ]
          },
          "metadata": {},
          "execution_count": 14
        }
      ]
    },
    {
      "cell_type": "code",
      "metadata": {
        "id": "F3mFiMKu-wdP"
      },
      "source": [
        "# we understand that remarks does not give us much useful information\n",
        "# so we drop remarks column\n",
        "data.drop(\"Remarks\", axis = 1, inplace = True)\n"
      ],
      "execution_count": 15,
      "outputs": []
    },
    {
      "cell_type": "code",
      "metadata": {
        "id": "dFZS5kHc-30b"
      },
      "source": [
        "# define function to clean the AmountInUSD column\n",
        "def clean_amount(x):\n",
        " x = ''.join([c for c in str(x) if c in ['0', '1', '2', '3', '4', '5', '6', '7', '8', '9']])\n",
        " x = str(x).replace(\",\",\"\").replace(\"+\",\"\")\n",
        " x = str(x).lower().replace(\"undisclosed\",\"\")\n",
        " x = str(x).lower().replace(\"n/a\",\"\")\n",
        " if x == '':\n",
        "   x = '-999'\n",
        " return x"
      ],
      "execution_count": 18,
      "outputs": []
    },
    {
      "cell_type": "code",
      "metadata": {
        "id": "hwu-u05C-7A1"
      },
      "source": [
        "# applying the function to the column\n",
        "data[\"AmountInUSD\"] = data[\"AmountInUSD\"].apply(lambda x: float(clean_amount(x)))\n"
      ],
      "execution_count": 19,
      "outputs": []
    },
    {
      "cell_type": "code",
      "metadata": {
        "colab": {
          "base_uri": "https://localhost:8080/",
          "height": 0
        },
        "id": "b7G_LvQ6_IZ_",
        "outputId": "92a99af6-a804-4828-d073-43055578b43d"
      },
      "source": [
        "data.info()\n"
      ],
      "execution_count": 20,
      "outputs": [
        {
          "output_type": "stream",
          "name": "stdout",
          "text": [
            "<class 'pandas.core.frame.DataFrame'>\n",
            "RangeIndex: 3044 entries, 0 to 3043\n",
            "Data columns (total 9 columns):\n",
            " #   Column            Non-Null Count  Dtype  \n",
            "---  ------            --------------  -----  \n",
            " 0   SNo               3044 non-null   int64  \n",
            " 1   Date              3044 non-null   object \n",
            " 2   StartupName       3044 non-null   object \n",
            " 3   IndustryVertical  3044 non-null   object \n",
            " 4   SubVertical       3044 non-null   object \n",
            " 5   City              3044 non-null   object \n",
            " 6   InvestorsName     3044 non-null   object \n",
            " 7   InvestmentType    3044 non-null   object \n",
            " 8   AmountInUSD       3044 non-null   float64\n",
            "dtypes: float64(1), int64(1), object(7)\n",
            "memory usage: 214.2+ KB\n"
          ]
        }
      ]
    },
    {
      "cell_type": "markdown",
      "metadata": {
        "id": "wz4BkJ4y_PJL"
      },
      "source": [
        "AmountInUSD column has been converted into float64 data type from object type.\n",
        "Now, we shall clean the Date column."
      ]
    },
    {
      "cell_type": "code",
      "metadata": {
        "id": "ylJUeFfa_Kbp"
      },
      "source": [
        "# apply function on date column\n",
        "data['Date'][data['Date']=='12/05.2015'] = '12/05/2015'\n",
        "data['Date'][data['Date']=='13/04.2015'] = '13/04/2015'\n",
        "data['Date'][data['Date']=='15/01.2015'] = '15/01/2015'\n",
        "data['Date'][data['Date']=='\\\\\\\\xc2\\\\\\\\xa010/7/2015'] = '10/07/2015'\n",
        "data['Date'][data['Date']=='22/01//2015'] = '22/01/2015'\n",
        "data['Date'][data['Date']=='05/072018'] = '05/07/2018'\n",
        "data['Date'][data['Date']=='01/07/015'] = '01/07/2015'"
      ],
      "execution_count": 22,
      "outputs": []
    },
    {
      "cell_type": "code",
      "metadata": {
        "colab": {
          "base_uri": "https://localhost:8080/",
          "height": 0
        },
        "id": "subjgjj0_VZc",
        "outputId": "f999c701-bb80-4a24-f82c-f71079f7a724"
      },
      "source": [
        "data[\"Date\"].describe()"
      ],
      "execution_count": 23,
      "outputs": [
        {
          "output_type": "execute_result",
          "data": {
            "text/plain": [
              "count           3044\n",
              "unique          1030\n",
              "top       08/07/2015\n",
              "freq              11\n",
              "Name: Date, dtype: object"
            ]
          },
          "metadata": {},
          "execution_count": 23
        }
      ]
    },
    {
      "cell_type": "markdown",
      "metadata": {
        "id": "VWZpWE-5_kL2"
      },
      "source": [
        "What is the general amount that startups get in India?"
      ]
    },
    {
      "cell_type": "code",
      "metadata": {
        "colab": {
          "base_uri": "https://localhost:8080/",
          "height": 0
        },
        "id": "uPcDnYR2_hFC",
        "outputId": "ef4415f4-1bdf-43c9-e0ea-dbc397ea8e15"
      },
      "source": [
        "# Lets check the maximum amount startups secured.\n",
        "max_amount = data[\"AmountInUSD\"].dropna().sort_values().max()\n",
        "print(\"The maximum amount secured by startups in India was: \", max_amount)\n"
      ],
      "execution_count": 24,
      "outputs": [
        {
          "output_type": "stream",
          "name": "stdout",
          "text": [
            "The maximum amount secured by startups in India was:  3900000000.0\n"
          ]
        }
      ]
    },
    {
      "cell_type": "code",
      "metadata": {
        "colab": {
          "base_uri": "https://localhost:8080/",
          "height": 522,
          "referenced_widgets": [
            "ff22cdf3c9854e3482f05a98bba83dce",
            "6488e7fbbd974a048b785060d58a2b5c",
            "d0432c0aeaae43f684e61b124d970560",
            "a1caa0f0372b4e27bd75044fe09752ab",
            "44b0f4645f43437ea55f12292b8764d9",
            "dd724331571d493aadab81682990ecd5",
            "556bf1919a474d92ae5196b3d1516606",
            "3e2eee5d10144923926f9c0537863e5b",
            "880a2a6cbecb47138d1168ad1b0a2019",
            "0def305b58ed4042b631e47581b9e1aa"
          ]
        },
        "id": "nXPMRN-d_vSj",
        "outputId": "ac31b5e8-d7c4-462b-ed87-db5ee9ee9e95"
      },
      "source": [
        "# Importing ipywidgets to make it more interactive\n",
        "import ipywidgets as widgets\n",
        "from ipywidgets import interact\n",
        "@interact\n",
        "def check(column = 'AmountInUSD', x = 500000000):\n",
        " return data[data[column] > x].sort_values(by = 'AmountInUSD', ascending = False)"
      ],
      "execution_count": 25,
      "outputs": [
        {
          "output_type": "display_data",
          "data": {
            "application/vnd.jupyter.widget-view+json": {
              "model_id": "ff22cdf3c9854e3482f05a98bba83dce",
              "version_minor": 0,
              "version_major": 2
            },
            "text/plain": [
              "interactive(children=(Text(value='AmountInUSD', description='column'), IntSlider(value=500000000, description=…"
            ]
          },
          "metadata": {}
        }
      ]
    },
    {
      "cell_type": "code",
      "metadata": {
        "colab": {
          "base_uri": "https://localhost:8080/",
          "height": 0
        },
        "id": "lxAItqSP_0JL",
        "outputId": "b509174e-0572-48ae-ec24-c16b8e27803a"
      },
      "source": [
        "# Checking total number of startups funded\n",
        "len(data[\"StartupName\"].unique())\n"
      ],
      "execution_count": 26,
      "outputs": [
        {
          "output_type": "execute_result",
          "data": {
            "text/plain": [
              "2457"
            ]
          },
          "metadata": {},
          "execution_count": 26
        }
      ]
    },
    {
      "cell_type": "code",
      "metadata": {
        "colab": {
          "base_uri": "https://localhost:8080/",
          "height": 0
        },
        "id": "ju7GxKq2_2cO",
        "outputId": "11baece4-197c-4975-beef-10628564cc36"
      },
      "source": [
        "# Companies getting most fundings\n",
        "most_fundings = data[\"StartupName\"].value_counts().head(10)\n",
        "most_fundings"
      ],
      "execution_count": 27,
      "outputs": [
        {
          "output_type": "execute_result",
          "data": {
            "text/plain": [
              "Ola Cabs     8\n",
              "Swiggy       8\n",
              "Paytm        7\n",
              "UrbanClap    6\n",
              "Nykaa        6\n",
              "NoBroker     6\n",
              "Medinfi      6\n",
              "Meesho       6\n",
              "Jugnoo       5\n",
              "Uniphore     5\n",
              "Name: StartupName, dtype: int64"
            ]
          },
          "metadata": {},
          "execution_count": 27
        }
      ]
    },
    {
      "cell_type": "code",
      "metadata": {
        "colab": {
          "base_uri": "https://localhost:8080/",
          "height": 752
        },
        "id": "0XAQvIl0_6BX",
        "outputId": "2ed315a5-0cf4-4f23-87ba-0a35b4ee164b"
      },
      "source": [
        "plt.figure(figsize = (10, 12))\n",
        "sns.barplot(y = most_fundings.index, x = most_fundings.values,palette = \"cubehelix\")\n",
        "plt.xticks(rotation = \"horizontal\")\n",
        "plt.xlabel(\"Startup Names\", fontsize = 12)\n",
        "plt.ylabel(\"Number of Fundings received\", fontsize = 12)\n",
        "plt.title(\"Number of Fundings received by top 15 Startups\", fontsize = 16)"
      ],
      "execution_count": 28,
      "outputs": [
        {
          "output_type": "execute_result",
          "data": {
            "text/plain": [
              "Text(0.5, 1.0, 'Number of Fundings received by top 15 Startups')"
            ]
          },
          "metadata": {},
          "execution_count": 28
        },
        {
          "output_type": "display_data",
          "data": {
            "image/png": "[encoded data removed]",
            "text/plain": [
              "<Figure size 720x864 with 1 Axes>"
            ]
          },
          "metadata": {
            "needs_background": "light"
          }
        }
      ]
    },
    {
      "cell_type": "markdown",
      "metadata": {
        "id": "4Zwl0KoC_-9Y"
      },
      "source": [
        "Ola Cabs and Swiggy got the most number of fundings (8)\n",
        "among all the Startups observed from 2015 to 2020.\n"
      ]
    },
    {
      "cell_type": "markdown",
      "metadata": {
        "id": "R11zCd_kADNt"
      },
      "source": [
        "Does growth of a startup depend on location?"
      ]
    },
    {
      "cell_type": "markdown",
      "metadata": {
        "id": "c9u5katOAXV4"
      },
      "source": [
        "Data Cleaning"
      ]
    },
    {
      "cell_type": "code",
      "metadata": {
        "colab": {
          "base_uri": "https://localhost:8080/",
          "height": 0
        },
        "id": "mVxHTfPY_7i7",
        "outputId": "6ade3ff0-4e22-49f4-9044-5c5c965300ee"
      },
      "source": [
        "data['City'] = data['City'].replace(('Bengaluru', 'nan', 'Gurugram'), ('Bangalore', 'Bangalore', 'Bangalore'))\n",
        "city = data['City'].value_counts().head(10)\n",
        "print(city)"
      ],
      "execution_count": 30,
      "outputs": [
        {
          "output_type": "stream",
          "name": "stdout",
          "text": [
            "Bangalore    1072\n",
            "Mumbai        568\n",
            "New Delhi     424\n",
            "Gurgaon       291\n",
            "Pune          105\n",
            "Hyderabad      99\n",
            "Chennai        97\n",
            "Noida          93\n",
            "Ahmedabad      38\n",
            "Delhi          34\n",
            "Name: City, dtype: int64\n"
          ]
        }
      ]
    },
    {
      "cell_type": "code",
      "metadata": {
        "colab": {
          "base_uri": "https://localhost:8080/",
          "height": 557
        },
        "id": "3WBd3IL9AcTw",
        "outputId": "4c8d6d5d-8b97-4eb8-b8e5-9615be048f60"
      },
      "source": [
        "plt.figure(figsize = (12, 8))\n",
        "sns.barplot(x = city.index, y = city.values, palette = 'Wistia')\n",
        "plt.xticks(rotation = 45)\n",
        "plt.xlabel('city location of startups', fontsize=12)\n",
        "plt.ylabel('Number of fundings made', fontsize=12)\n",
        "plt.title(\"City location of startups with number of funding\", fontsize=16)\n",
        "plt.show()"
      ],
      "execution_count": 31,
      "outputs": [
        {
          "output_type": "display_data",
          "data": {
            "image/png": "[encoded data removed]",
            "text/plain": [
              "<Figure size 864x576 with 1 Axes>"
            ]
          },
          "metadata": {
            "needs_background": "light"
          }
        }
      ]
    },
    {
      "cell_type": "markdown",
      "metadata": {
        "id": "O2Ws59FzAuHz"
      },
      "source": [
        "Bangalore has seen the highest number of fundings over the course\n",
        "of the time period at over 1000 fundings. \n",
        "Mumbai and Delhi are far off with just under 600 and around 400 fundings respectively."
      ]
    },
    {
      "cell_type": "markdown",
      "metadata": {
        "id": "ebIBBH0oAyeH"
      },
      "source": [
        "Preferred industries for startups in India"
      ]
    },
    {
      "cell_type": "code",
      "metadata": {
        "colab": {
          "base_uri": "https://localhost:8080/",
          "height": 203
        },
        "id": "2ASx6CmYAqyO",
        "outputId": "3c6e7a35-d489-4e87-9639-83f5f8dcf75c"
      },
      "source": [
        "data[data[\"IndustryVertical\"] == 'nan'].head()"
      ],
      "execution_count": 32,
      "outputs": [
        {
          "output_type": "execute_result",
          "data": {
            "text/html": [
              "<div>\n",
              "<style scoped>\n",
              "    .dataframe tbody tr th:only-of-type {\n",
              "        vertical-align: middle;\n",
              "    }\n",
              "\n",
              "    .dataframe tbody tr th {\n",
              "        vertical-align: top;\n",
              "    }\n",
              "\n",
              "    .dataframe thead th {\n",
              "        text-align: right;\n",
              "    }\n",
              "</style>\n",
              "<table border=\"1\" class=\"dataframe\">\n",
              "  <thead>\n",
              "    <tr style=\"text-align: right;\">\n",
              "      <th></th>\n",
              "      <th>SNo</th>\n",
              "      <th>Date</th>\n",
              "      <th>StartupName</th>\n",
              "      <th>IndustryVertical</th>\n",
              "      <th>SubVertical</th>\n",
              "      <th>City</th>\n",
              "      <th>InvestorsName</th>\n",
              "      <th>InvestmentType</th>\n",
              "      <th>AmountInUSD</th>\n",
              "    </tr>\n",
              "  </thead>\n",
              "  <tbody>\n",
              "    <tr>\n",
              "      <th>2873</th>\n",
              "      <td>2874</td>\n",
              "      <td>02/03/2015</td>\n",
              "      <td>TrulyMadly.com</td>\n",
              "      <td>nan</td>\n",
              "      <td>nan</td>\n",
              "      <td>Bangalore</td>\n",
              "      <td>Helion Venture Partners, Kae Capital</td>\n",
              "      <td>Private Equity</td>\n",
              "      <td>5500000.0</td>\n",
              "    </tr>\n",
              "    <tr>\n",
              "      <th>2874</th>\n",
              "      <td>2875</td>\n",
              "      <td>02/03/2015</td>\n",
              "      <td>InstaLively</td>\n",
              "      <td>nan</td>\n",
              "      <td>nan</td>\n",
              "      <td>Bangalore</td>\n",
              "      <td>Group of Angel Investors</td>\n",
              "      <td>Seed Funding</td>\n",
              "      <td>120000.0</td>\n",
              "    </tr>\n",
              "    <tr>\n",
              "      <th>2875</th>\n",
              "      <td>2876</td>\n",
              "      <td>03/03/2015</td>\n",
              "      <td>Vserv</td>\n",
              "      <td>nan</td>\n",
              "      <td>nan</td>\n",
              "      <td>Bangalore</td>\n",
              "      <td>Maverick Capital, IDG Ventures India</td>\n",
              "      <td>Private Equity</td>\n",
              "      <td>15000000.0</td>\n",
              "    </tr>\n",
              "    <tr>\n",
              "      <th>2876</th>\n",
              "      <td>2877</td>\n",
              "      <td>03/03/2015</td>\n",
              "      <td>Intruo.com</td>\n",
              "      <td>nan</td>\n",
              "      <td>nan</td>\n",
              "      <td>Bangalore</td>\n",
              "      <td>Ashutosh Lawania, Alok Goel &amp; others</td>\n",
              "      <td>Seed Funding</td>\n",
              "      <td>-999.0</td>\n",
              "    </tr>\n",
              "    <tr>\n",
              "      <th>2877</th>\n",
              "      <td>2878</td>\n",
              "      <td>05/03/2015</td>\n",
              "      <td>Niffler</td>\n",
              "      <td>nan</td>\n",
              "      <td>nan</td>\n",
              "      <td>Bangalore</td>\n",
              "      <td>SAIF Partners</td>\n",
              "      <td>Seed Funding</td>\n",
              "      <td>1000000.0</td>\n",
              "    </tr>\n",
              "  </tbody>\n",
              "</table>\n",
              "</div>"
            ],
            "text/plain": [
              "       SNo        Date  ...  InvestmentType AmountInUSD\n",
              "2873  2874  02/03/2015  ...  Private Equity   5500000.0\n",
              "2874  2875  02/03/2015  ...    Seed Funding    120000.0\n",
              "2875  2876  03/03/2015  ...  Private Equity  15000000.0\n",
              "2876  2877  03/03/2015  ...    Seed Funding      -999.0\n",
              "2877  2878  05/03/2015  ...    Seed Funding   1000000.0\n",
              "\n",
              "[5 rows x 9 columns]"
            ]
          },
          "metadata": {},
          "execution_count": 32
        }
      ]
    },
    {
      "cell_type": "code",
      "metadata": {
        "id": "wcifDIASA4Bt"
      },
      "source": [
        "data['IndustryVertical'] = data['IndustryVertical'].replace('nan', 'Consumer Technology')\n",
        "data['IndustryVertical'] = data['IndustryVertical'].replace('ECommerce', 'eCommerce')\n",
        "data['IndustryVertical'] = data['IndustryVertical'].replace('E-Commerce', 'eCommerce')\n",
        "data['IndustryVertical'] = data['IndustryVertical'].replace('E-commerce', 'eCommerce')\n",
        "data['IndustryVertical'] = data['IndustryVertical'].replace('Ecommerce', 'eCommerce')\n",
        "data['IndustryVertical'] = data['IndustryVertical'].replace('Food and Beverage', 'Food & Beverage')"
      ],
      "execution_count": 33,
      "outputs": []
    },
    {
      "cell_type": "code",
      "metadata": {
        "colab": {
          "base_uri": "https://localhost:8080/",
          "height": 0
        },
        "id": "L4VXTcDUA_iG",
        "outputId": "30a606eb-7fd5-410e-fad1-6a3cc257f2f3"
      },
      "source": [
        "industry_v = data[\"IndustryVertical\"].value_counts().head(10)\n",
        "industry_v\n"
      ],
      "execution_count": 34,
      "outputs": [
        {
          "output_type": "execute_result",
          "data": {
            "text/plain": [
              "Consumer Internet      941\n",
              "Technology             478\n",
              "eCommerce              296\n",
              "Consumer Technology    172\n",
              "Healthcare              70\n",
              "Finance                 62\n",
              "Logistics               32\n",
              "Food & Beverage         29\n",
              "Education               24\n",
              "Ed-Tech                 14\n",
              "Name: IndustryVertical, dtype: int64"
            ]
          },
          "metadata": {},
          "execution_count": 34
        }
      ]
    },
    {
      "cell_type": "code",
      "metadata": {
        "colab": {
          "base_uri": "https://localhost:8080/",
          "height": 591
        },
        "id": "iV5gKVFTBEYT",
        "outputId": "aa662c0d-83a4-4a62-acf1-4ed92592b53e"
      },
      "source": [
        "plt.figure(figsize = (10, 10))\n",
        "plt.pie(industry_v, labels = industry_v.index, colors = sns.color_palette('pastel')[0:10])\n",
        "plt.title(\"Pie Chart depicting the industries that Startups mostly preferred in India\")\n",
        "plt.show()"
      ],
      "execution_count": 36,
      "outputs": [
        {
          "output_type": "display_data",
          "data": {
            "image/png": "[encoded data removed]",
            "text/plain": [
              "<Figure size 720x720 with 1 Axes>"
            ]
          },
          "metadata": {}
        }
      ]
    },
    {
      "cell_type": "markdown",
      "metadata": {
        "id": "XaDRr6OUBTnZ"
      },
      "source": [
        "\n",
        "\n",
        "\n",
        "1.   Technology - 23%\n",
        "2.   Consumer Internet - 44%\n",
        "3.   eCommerce - 14%\n",
        "\n",
        "\n",
        "\n",
        "These 3 industries alone account for 81% of the top 10 most preferred industries."
      ]
    },
    {
      "cell_type": "code",
      "metadata": {
        "colab": {
          "base_uri": "https://localhost:8080/",
          "height": 0
        },
        "id": "VvO6ECJEBJ6m",
        "outputId": "d4903489-6bd5-41e3-9b7d-53d978b8a077"
      },
      "source": [
        "data[\"SubVertical\"].value_counts().head(10)"
      ],
      "execution_count": 37,
      "outputs": [
        {
          "output_type": "execute_result",
          "data": {
            "text/plain": [
              "nan                              936\n",
              "Online Lending Platform           11\n",
              "Online Pharmacy                   10\n",
              "Food Delivery Platform             8\n",
              "Online Lending                     5\n",
              "Education                          5\n",
              "Online lending platform            5\n",
              "Online Learning Platform           5\n",
              "Online Education Platform          5\n",
              "Non-Banking Financial Company      4\n",
              "Name: SubVertical, dtype: int64"
            ]
          },
          "metadata": {},
          "execution_count": 37
        }
      ]
    },
    {
      "cell_type": "code",
      "metadata": {
        "colab": {
          "base_uri": "https://localhost:8080/",
          "height": 0
        },
        "id": "tgYpEybMBeW8",
        "outputId": "3f4ed476-f85d-4579-8bf2-11ca37f52632"
      },
      "source": [
        "# Reading the subvertical column into a new variable\n",
        "industry_s = data[\"SubVertical\"].value_counts()[1:].head(20)\n",
        "industry_s"
      ],
      "execution_count": 38,
      "outputs": [
        {
          "output_type": "execute_result",
          "data": {
            "text/plain": [
              "Online Lending Platform          11\n",
              "Online Pharmacy                  10\n",
              "Food Delivery Platform            8\n",
              "Online Lending                    5\n",
              "Education                         5\n",
              "Online lending platform           5\n",
              "Online Learning Platform          5\n",
              "Online Education Platform         5\n",
              "Non-Banking Financial Company     4\n",
              "Online Food Delivery              4\n",
              "ECommerce Marketplace             3\n",
              "Fitness Mobile App                3\n",
              "Data Analytics platform           3\n",
              "Online Gifting platform           3\n",
              "Online Marketplace                3\n",
              "Online Payment Gateway            3\n",
              "Logistics                         3\n",
              "Online Furniture Store            3\n",
              "Online Food Delivery Platform     3\n",
              "Agri-tech                         3\n",
              "Name: SubVertical, dtype: int64"
            ]
          },
          "metadata": {},
          "execution_count": 38
        }
      ]
    },
    {
      "cell_type": "code",
      "metadata": {
        "colab": {
          "base_uri": "https://localhost:8080/",
          "height": 778
        },
        "id": "tWhVfzyjBhTv",
        "outputId": "84680130-1be7-40ac-c750-fb77c704f624"
      },
      "source": [
        "plt.figure(figsize = (10, 10))\n",
        "sns.barplot(x = industry_s.index, y = industry_s.values, palette = 'winter')\n",
        "plt.xticks(rotation='vertical')\n",
        "plt.xlabel('Subvertical of startups', fontsize=12)\n",
        "plt.ylabel('Number of fundings made', fontsize=12)\n",
        "plt.title(\"Subvertical of startups with number of funding\", fontsize=16)\n",
        "plt.show()"
      ],
      "execution_count": 39,
      "outputs": [
        {
          "output_type": "display_data",
          "data": {
            "image/png": "[encoded data removed]",
            "text/plain": [
              "<Figure size 720x720 with 1 Axes>"
            ]
          },
          "metadata": {
            "needs_background": "light"
          }
        }
      ]
    },
    {
      "cell_type": "markdown",
      "metadata": {
        "id": "t-U6H06YBoi_"
      },
      "source": [
        " Online Lending Platform has the highest subvertical among all\n",
        "major startups in India from 2015 to 2020."
      ]
    },
    {
      "cell_type": "markdown",
      "metadata": {
        "id": "uiC4vz3oBxXT"
      },
      "source": [
        "Most important types of funding for startups"
      ]
    },
    {
      "cell_type": "code",
      "metadata": {
        "id": "g3KdpItvBl2Z"
      },
      "source": [
        "data['InvestmentType'] = data['InvestmentType'].replace(('SeedFunding', 'Seed\\\\nFunding', 'SeedFunding'))\n",
        "data['InvestmentType'] = data['InvestmentType'].replace(('Seed / Angel Funding', 'Seed/ Angel Funding', 'Seed / Angel Funding'))\n"
      ],
      "execution_count": 40,
      "outputs": []
    },
    {
      "cell_type": "code",
      "metadata": {
        "colab": {
          "base_uri": "https://localhost:8080/",
          "height": 0
        },
        "id": "TmfwoCnkCEWt",
        "outputId": "dc9d7215-befe-4b01-c871-a649f5e1b42a"
      },
      "source": [
        "investment = data['InvestmentType'].value_counts().head(10)\n",
        "print(investment)\n"
      ],
      "execution_count": 41,
      "outputs": [
        {
          "output_type": "stream",
          "name": "stdout",
          "text": [
            "Private Equity          1451\n",
            "Seed Funding            1355\n",
            "Debt Funding              32\n",
            "Seed\\\\nFunding            30\n",
            "Series A                  25\n",
            "Seed/Angel Funding        23\n",
            "Series B                  22\n",
            "Series C                  14\n",
            "Series D                  12\n",
            "Angel / Seed Funding       8\n",
            "Name: InvestmentType, dtype: int64\n"
          ]
        }
      ]
    },
    {
      "cell_type": "code",
      "metadata": {
        "colab": {
          "base_uri": "https://localhost:8080/",
          "height": 590
        },
        "id": "a0S6ek-PCKL5",
        "outputId": "c62ccea5-de86-4fb1-c396-d0a3ae36b538"
      },
      "source": [
        "plt.figure(figsize = (12, 8))\n",
        "sns.barplot(investment.index, investment.values, palette = 'summer')\n",
        "plt.xticks(rotation = 45)\n",
        "plt.xlabel('Investment Type', fontsize=12)\n",
        "plt.ylabel('Number of fundings made', fontsize=12)\n",
        "plt.title(\"Investment Type with number of funding\", fontsize=16)\n",
        "plt.show()"
      ],
      "execution_count": 42,
      "outputs": [
        {
          "output_type": "display_data",
          "data": {
            "image/png": "[encoded data removed]",
            "text/plain": [
              "<Figure size 864x576 with 1 Axes>"
            ]
          },
          "metadata": {
            "needs_background": "light"
          }
        }
      ]
    },
    {
      "cell_type": "markdown",
      "metadata": {
        "id": "VNWaPjc5CNkh"
      },
      "source": [
        " Private Equity and Seed Funding are the most popular\n",
        "investment types for startups in India in the time period 2015 to 2020."
      ]
    },
    {
      "cell_type": "markdown",
      "metadata": {
        "id": "EnJldB2iCUIl"
      },
      "source": [
        "The change of funding ecosystem with respect to time"
      ]
    },
    {
      "cell_type": "code",
      "metadata": {
        "id": "wGoDNhpYCOPP"
      },
      "source": [
        "# Converting the Date column to Datetime objects using pandas library function\n",
        "data[\"YearMonth\"] = (pd.to_datetime(data[\"Date\"],\n",
        " format='%d/%m/%Y').dt.year*100)+(pd.to_datetime(data[\"Date\"],format='%d/%m/%Y').dt.year*100)"
      ],
      "execution_count": 43,
      "outputs": []
    },
    {
      "cell_type": "code",
      "metadata": {
        "colab": {
          "base_uri": "https://localhost:8080/",
          "height": 0
        },
        "id": "HbI9X2FQCeSY",
        "outputId": "e1ea4699-f0d0-4a7d-ff35-16456c6b1766"
      },
      "source": [
        "data[\"YearMonth\"]\n"
      ],
      "execution_count": 44,
      "outputs": [
        {
          "output_type": "execute_result",
          "data": {
            "text/plain": [
              "0       404000\n",
              "1       404000\n",
              "2       404000\n",
              "3       404000\n",
              "4       404000\n",
              "         ...  \n",
              "3039    403000\n",
              "3040    403000\n",
              "3041    403000\n",
              "3042    403000\n",
              "3043    403000\n",
              "Name: YearMonth, Length: 3044, dtype: int64"
            ]
          },
          "metadata": {},
          "execution_count": 44
        }
      ]
    },
    {
      "cell_type": "code",
      "metadata": {
        "colab": {
          "base_uri": "https://localhost:8080/",
          "height": 0
        },
        "id": "J9h-T_iJChq4",
        "outputId": "7bf17358-bd43-491d-a8f1-61d550da1478"
      },
      "source": [
        "d1 = data[\"YearMonth\"].value_counts().sort_values(ascending = False).head(10)\n",
        "print(\"No. of fundings per month:\\n\", d1)"
      ],
      "execution_count": 45,
      "outputs": [
        {
          "output_type": "stream",
          "name": "stdout",
          "text": [
            "No. of fundings per month:\n",
            " 403200    993\n",
            "403000    936\n",
            "403400    687\n",
            "403600    310\n",
            "403800    111\n",
            "404000      7\n",
            "Name: YearMonth, dtype: int64\n"
          ]
        }
      ]
    },
    {
      "cell_type": "code",
      "metadata": {
        "colab": {
          "base_uri": "https://localhost:8080/",
          "height": 535
        },
        "id": "X08wAwG6CmI1",
        "outputId": "ea8931ce-251a-4aa9-d568-ebfac14269bb"
      },
      "source": [
        "d2 = data[\"YearMonth\"].value_counts()\n",
        "# Visualization of the number of fundings month-wise\n",
        "plt.figure(figsize = (15, 8))\n",
        "sns.set_context('paper')\n",
        "sns.lineplot(d2.index, d2.values)\n",
        "plt.xticks(rotation = 0)\n",
        "plt.xlabel('Year-Month of transaction', fontsize=12)\n",
        "plt.ylabel('Number of fundings made', fontsize=12)\n",
        "plt.title(\"Year-Month Distribution\", fontsize=16)"
      ],
      "execution_count": 46,
      "outputs": [
        {
          "output_type": "execute_result",
          "data": {
            "text/plain": [
              "Text(0.5, 1.0, 'Year-Month Distribution')"
            ]
          },
          "metadata": {},
          "execution_count": 46
        },
        {
          "output_type": "display_data",
          "data": {
            "image/png": "[encoded data removed]",
            "text/plain": [
              "<Figure size 1080x576 with 1 Axes>"
            ]
          },
          "metadata": {
            "needs_background": "light"
          }
        }
      ]
    },
    {
      "cell_type": "markdown",
      "metadata": {
        "id": "T-TqjBfdCsPd"
      },
      "source": [
        "the number of fundings significantly decreased from the\n",
        "year 2015 to 2020. "
      ]
    },
    {
      "cell_type": "markdown",
      "metadata": {
        "id": "ZwIzPsMNCtRF"
      },
      "source": [
        "the number of fundings peaked around early 2016 and hit an all time low around early 2019"
      ]
    },
    {
      "cell_type": "code",
      "metadata": {
        "id": "vexSYLk5Cs0Z"
      },
      "source": [
        ""
      ],
      "execution_count": null,
      "outputs": []
    }
  ]
}