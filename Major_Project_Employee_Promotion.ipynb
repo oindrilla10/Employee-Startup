{
  "nbformat": 4,
  "nbformat_minor": 0,
  "metadata": {
    "colab": {
      "name": "Major Project Employee Promotion.ipynb",
      "provenance": [],
      "collapsed_sections": []
    },
    "kernelspec": {
      "name": "python3",
      "display_name": "Python 3"
    },
    "language_info": {
      "name": "python"
    }
  },
  "cells": [
    {
      "cell_type": "markdown",
      "metadata": {
        "id": "MwTIykFaDtQI"
      },
      "source": [
        "Name : Oindrilla Banerjee"
      ]
    },
    {
      "cell_type": "markdown",
      "metadata": {
        "id": "RhYGv3e8AfjP"
      },
      "source": [
        "**Data Description**\n",
        "\n",
        "---\n",
        "\n",
        "\n",
        "\n",
        "---\n",
        "\n"
      ]
    },
    {
      "cell_type": "markdown",
      "metadata": {
        "id": "V8BQLXntCH3U"
      },
      "source": [
        "**Features:**\n",
        "\n",
        "employee_id: Unique ID for employee column has been removed as it does not have any effect to the accuracy of our model.\n",
        "\n",
        "\n",
        "*   department: Department of employee\n",
        "*   region: Region of employment (unordered)\n",
        "*   education: Education Level\n",
        "*   gender: Gender of Employee\n",
        "*   recruitment_channel: Channel of recruitment for employee\n",
        "*   no_of_ trainings: no of other trainings completed in previous year on soft skills, technical skills etc.\n",
        "*   age: Age of Employee\n",
        "*   previous_ year_ rating: Employee Rating for the previous year\n",
        "*   length_of_ service: Length of service in years\n",
        "*   awards_ won: if awards won during previous year then 1 else 0\n",
        "*   avg_ training_ score: Average score in current training evaluations\n",
        "*   is_promoted: (Target variable)  for promotion\n",
        "\n",
        "\n",
        "\n",
        "\n",
        "\n",
        "\n"
      ]
    },
    {
      "cell_type": "markdown",
      "metadata": {
        "id": "bl62l96EFkkV"
      },
      "source": [
        "**DATA PREPROCESSING**\n",
        "\n",
        "> We perform some data proprocessing on the train and test data sets such as: \n",
        "1. Dropping rows which contain NA values. (Since our data set is large, this did not affect us.)\n",
        "2. Dropping columns which add nothing to our model accuracy such as Employee IDs.\n",
        "\n",
        "\n",
        "*   (NOTE: The above changes have been made **directly into the Excel file** using the \"Filter\" option to save time and make the data preprocessing convenient. The uploaded csv files are thereby the preprocessed ones.)\n",
        "\n",
        "\n",
        "\n",
        "\n"
      ]
    },
    {
      "cell_type": "code",
      "metadata": {
        "id": "_8wwsbJ-F_Q8"
      },
      "source": [
        "# Importing numpy, pandas and matplotlib libraries\n",
        "import numpy as np\n",
        "import pandas as pd\n",
        "import matplotlib.pyplot as plt\n",
        "%matplotlib inline"
      ],
      "execution_count": 1,
      "outputs": []
    },
    {
      "cell_type": "code",
      "metadata": {
        "id": "zceD4MdYG45j"
      },
      "source": [
        "# loading the data sets from the .csv files\n",
        "emp_train = pd.read_csv('train_DPhi.csv')\n",
        "emp_test = pd.read_csv('test_DPhi.csv')\n"
      ],
      "execution_count": 2,
      "outputs": []
    },
    {
      "cell_type": "code",
      "metadata": {
        "colab": {
          "base_uri": "https://localhost:8080/",
          "height": 0
        },
        "id": "TEtJhtiHH6c_",
        "outputId": "5cb829c0-18b1-4077-b0e1-b08a339d1a77"
      },
      "source": [
        "emp_train[\"department\"].value_counts()"
      ],
      "execution_count": 3,
      "outputs": [
        {
          "output_type": "execute_result",
          "data": {
            "text/plain": [
              "Sales & Marketing    14239\n",
              "Operations           10547\n",
              "Procurement           6641\n",
              "Technology            6502\n",
              "Analytics             4610\n",
              "Finance               2219\n",
              "HR                    2142\n",
              "R&D                    893\n",
              "Legal                  867\n",
              "Name: department, dtype: int64"
            ]
          },
          "metadata": {},
          "execution_count": 3
        }
      ]
    },
    {
      "cell_type": "code",
      "metadata": {
        "colab": {
          "base_uri": "https://localhost:8080/",
          "height": 0
        },
        "id": "OkW74bbXIAlG",
        "outputId": "91fe3319-72df-4929-8db7-5455100af407"
      },
      "source": [
        "emp_test[\"department\"].value_counts()"
      ],
      "execution_count": 4,
      "outputs": [
        {
          "output_type": "execute_result",
          "data": {
            "text/plain": [
              "Sales & Marketing    6176\n",
              "Operations           4434\n",
              "Procurement          2804\n",
              "Technology           2725\n",
              "Analytics            1960\n",
              "Finance               974\n",
              "HR                    972\n",
              "R&D                   391\n",
              "Legal                 383\n",
              "Name: department, dtype: int64"
            ]
          },
          "metadata": {},
          "execution_count": 4
        }
      ]
    },
    {
      "cell_type": "code",
      "metadata": {
        "colab": {
          "base_uri": "https://localhost:8080/",
          "height": 0
        },
        "id": "0fp_kVgpIObb",
        "outputId": "55d98439-b79c-4019-f58e-41e41c4aca71"
      },
      "source": [
        "# checking training data set info\n",
        "emp_train.info()"
      ],
      "execution_count": 5,
      "outputs": [
        {
          "output_type": "stream",
          "name": "stdout",
          "text": [
            "<class 'pandas.core.frame.DataFrame'>\n",
            "RangeIndex: 48660 entries, 0 to 48659\n",
            "Data columns (total 12 columns):\n",
            " #   Column                Non-Null Count  Dtype \n",
            "---  ------                --------------  ----- \n",
            " 0   department            48660 non-null  object\n",
            " 1   region                48660 non-null  object\n",
            " 2   education             48660 non-null  object\n",
            " 3   gender                48660 non-null  object\n",
            " 4   recruitment_channel   48660 non-null  object\n",
            " 5   no_of_trainings       48660 non-null  int64 \n",
            " 6   age                   48660 non-null  int64 \n",
            " 7   previous_year_rating  48660 non-null  int64 \n",
            " 8   length_of_service     48660 non-null  int64 \n",
            " 9   awards_won?           48660 non-null  int64 \n",
            " 10  avg_training_score    48660 non-null  int64 \n",
            " 11  is_promoted           48660 non-null  int64 \n",
            "dtypes: int64(7), object(5)\n",
            "memory usage: 4.5+ MB\n"
          ]
        }
      ]
    },
    {
      "cell_type": "code",
      "metadata": {
        "colab": {
          "base_uri": "https://localhost:8080/",
          "height": 0
        },
        "id": "97qrT0H9IUAB",
        "outputId": "c7b7faee-f8c5-4f53-bd44-e24db6dc1afc"
      },
      "source": [
        "# checking testing data set info\n",
        "emp_test.info()"
      ],
      "execution_count": 6,
      "outputs": [
        {
          "output_type": "stream",
          "name": "stdout",
          "text": [
            "<class 'pandas.core.frame.DataFrame'>\n",
            "RangeIndex: 20819 entries, 0 to 20818\n",
            "Data columns (total 11 columns):\n",
            " #   Column                Non-Null Count  Dtype \n",
            "---  ------                --------------  ----- \n",
            " 0   department            20819 non-null  object\n",
            " 1   region                20819 non-null  object\n",
            " 2   education             20819 non-null  object\n",
            " 3   gender                20819 non-null  object\n",
            " 4   recruitment_channel   20819 non-null  object\n",
            " 5   no_of_trainings       20819 non-null  int64 \n",
            " 6   age                   20819 non-null  int64 \n",
            " 7   previous_year_rating  20819 non-null  int64 \n",
            " 8   length_of_service     20819 non-null  int64 \n",
            " 9   awards_won?           20819 non-null  int64 \n",
            " 10  avg_training_score    20819 non-null  int64 \n",
            "dtypes: int64(6), object(5)\n",
            "memory usage: 1.7+ MB\n"
          ]
        }
      ]
    },
    {
      "cell_type": "code",
      "metadata": {
        "colab": {
          "base_uri": "https://localhost:8080/",
          "height": 265
        },
        "id": "MUcjgHoYIYGP",
        "outputId": "e8327b2d-12de-4dc1-d246-fd56cd91df41"
      },
      "source": [
        "# finding correlation matrix of numerical columns in training data set\n",
        "emp_train.corr()"
      ],
      "execution_count": 7,
      "outputs": [
        {
          "output_type": "execute_result",
          "data": {
            "text/html": [
              "<div>\n",
              "<style scoped>\n",
              "    .dataframe tbody tr th:only-of-type {\n",
              "        vertical-align: middle;\n",
              "    }\n",
              "\n",
              "    .dataframe tbody tr th {\n",
              "        vertical-align: top;\n",
              "    }\n",
              "\n",
              "    .dataframe thead th {\n",
              "        text-align: right;\n",
              "    }\n",
              "</style>\n",
              "<table border=\"1\" class=\"dataframe\">\n",
              "  <thead>\n",
              "    <tr style=\"text-align: right;\">\n",
              "      <th></th>\n",
              "      <th>no_of_trainings</th>\n",
              "      <th>age</th>\n",
              "      <th>previous_year_rating</th>\n",
              "      <th>length_of_service</th>\n",
              "      <th>awards_won?</th>\n",
              "      <th>avg_training_score</th>\n",
              "      <th>is_promoted</th>\n",
              "    </tr>\n",
              "  </thead>\n",
              "  <tbody>\n",
              "    <tr>\n",
              "      <th>no_of_trainings</th>\n",
              "      <td>1.000000</td>\n",
              "      <td>-0.083590</td>\n",
              "      <td>-0.064236</td>\n",
              "      <td>-0.055440</td>\n",
              "      <td>-0.008528</td>\n",
              "      <td>0.042033</td>\n",
              "      <td>-0.025006</td>\n",
              "    </tr>\n",
              "    <tr>\n",
              "      <th>age</th>\n",
              "      <td>-0.083590</td>\n",
              "      <td>1.000000</td>\n",
              "      <td>0.005068</td>\n",
              "      <td>0.620348</td>\n",
              "      <td>-0.010335</td>\n",
              "      <td>-0.066214</td>\n",
              "      <td>-0.022412</td>\n",
              "    </tr>\n",
              "    <tr>\n",
              "      <th>previous_year_rating</th>\n",
              "      <td>-0.064236</td>\n",
              "      <td>0.005068</td>\n",
              "      <td>1.000000</td>\n",
              "      <td>-0.001252</td>\n",
              "      <td>0.027920</td>\n",
              "      <td>0.070041</td>\n",
              "      <td>0.158715</td>\n",
              "    </tr>\n",
              "    <tr>\n",
              "      <th>length_of_service</th>\n",
              "      <td>-0.055440</td>\n",
              "      <td>0.620348</td>\n",
              "      <td>-0.001252</td>\n",
              "      <td>1.000000</td>\n",
              "      <td>-0.043750</td>\n",
              "      <td>-0.047461</td>\n",
              "      <td>-0.014267</td>\n",
              "    </tr>\n",
              "    <tr>\n",
              "      <th>awards_won?</th>\n",
              "      <td>-0.008528</td>\n",
              "      <td>-0.010335</td>\n",
              "      <td>0.027920</td>\n",
              "      <td>-0.043750</td>\n",
              "      <td>1.000000</td>\n",
              "      <td>0.073132</td>\n",
              "      <td>0.196971</td>\n",
              "    </tr>\n",
              "    <tr>\n",
              "      <th>avg_training_score</th>\n",
              "      <td>0.042033</td>\n",
              "      <td>-0.066214</td>\n",
              "      <td>0.070041</td>\n",
              "      <td>-0.047461</td>\n",
              "      <td>0.073132</td>\n",
              "      <td>1.000000</td>\n",
              "      <td>0.179494</td>\n",
              "    </tr>\n",
              "    <tr>\n",
              "      <th>is_promoted</th>\n",
              "      <td>-0.025006</td>\n",
              "      <td>-0.022412</td>\n",
              "      <td>0.158715</td>\n",
              "      <td>-0.014267</td>\n",
              "      <td>0.196971</td>\n",
              "      <td>0.179494</td>\n",
              "      <td>1.000000</td>\n",
              "    </tr>\n",
              "  </tbody>\n",
              "</table>\n",
              "</div>"
            ],
            "text/plain": [
              "                      no_of_trainings  ...  is_promoted\n",
              "no_of_trainings              1.000000  ...    -0.025006\n",
              "age                         -0.083590  ...    -0.022412\n",
              "previous_year_rating        -0.064236  ...     0.158715\n",
              "length_of_service           -0.055440  ...    -0.014267\n",
              "awards_won?                 -0.008528  ...     0.196971\n",
              "avg_training_score           0.042033  ...     0.179494\n",
              "is_promoted                 -0.025006  ...     1.000000\n",
              "\n",
              "[7 rows x 7 columns]"
            ]
          },
          "metadata": {},
          "execution_count": 7
        }
      ]
    },
    {
      "cell_type": "markdown",
      "metadata": {
        "id": "h1TUe3n4KNw0"
      },
      "source": [
        "**DATA VISUALIZATION**\n",
        "\n",
        "---\n",
        "\n"
      ]
    },
    {
      "cell_type": "code",
      "metadata": {
        "id": "Cg9oo5mrIqgz"
      },
      "source": [
        "# importing seaborn library for visualization\n",
        "import seaborn as sns"
      ],
      "execution_count": 8,
      "outputs": []
    },
    {
      "cell_type": "code",
      "metadata": {
        "colab": {
          "base_uri": "https://localhost:8080/",
          "height": 381
        },
        "id": "_t6iGWfhKkip",
        "outputId": "8ae42e8e-159a-41c8-8b54-d63218ccd859"
      },
      "source": [
        "# heatmap of correlation matrix\n",
        "sns.heatmap(emp_train.corr())"
      ],
      "execution_count": 9,
      "outputs": [
        {
          "output_type": "execute_result",
          "data": {
            "text/plain": [
              "<matplotlib.axes._subplots.AxesSubplot at 0x7f7d14aacdd0>"
            ]
          },
          "metadata": {},
          "execution_count": 9
        },
        {
          "output_type": "display_data",
          "data": {
            "image/png": "[encoded data removed]",
            "text/plain": [
              "<Figure size 432x288 with 2 Axes>"
            ]
          },
          "metadata": {
            "needs_background": "light"
          }
        }
      ]
    },
    {
      "cell_type": "code",
      "metadata": {
        "colab": {
          "base_uri": "https://localhost:8080/",
          "height": 500
        },
        "id": "LqMYcV1rKoJa",
        "outputId": "7ad3f8cb-1cca-4f38-f536-3c2f30d07892"
      },
      "source": [
        "# scatter plot of age vs length of service\n",
        "plt.figure(figsize= (10, 8))\n",
        "plt.scatter(emp_train.age, emp_train.length_of_service)"
      ],
      "execution_count": 10,
      "outputs": [
        {
          "output_type": "execute_result",
          "data": {
            "text/plain": [
              "<matplotlib.collections.PathCollection at 0x7f7d0c130f90>"
            ]
          },
          "metadata": {},
          "execution_count": 10
        },
        {
          "output_type": "display_data",
          "data": {
            "image/png": "[encoded data removed]",
            "text/plain": [
              "<Figure size 720x576 with 1 Axes>"
            ]
          },
          "metadata": {
            "needs_background": "light"
          }
        }
      ]
    },
    {
      "cell_type": "code",
      "metadata": {
        "colab": {
          "base_uri": "https://localhost:8080/",
          "height": 573
        },
        "id": "8wR42hBkKupo",
        "outputId": "5bb6f13a-b3eb-4a4d-a1fe-9ebad5341bc7"
      },
      "source": [
        "# creating the countplot of the target values i.e., the two classes.\n",
        "sns.set_theme(style= 'darkgrid')\n",
        "plt.figure(figsize=(10, 8))\n",
        "sns.countplot(emp_train.is_promoted)\n",
        "plt.xlabel(\"Promotion Status\")\n",
        "plt.ylabel(\"Number of Employees\")"
      ],
      "execution_count": 11,
      "outputs": [
        {
          "output_type": "stream",
          "name": "stderr",
          "text": [
            "/usr/local/lib/python3.7/dist-packages/seaborn/_decorators.py:43: FutureWarning: Pass the following variable as a keyword arg: x. From version 0.12, the only valid positional argument will be `data`, and passing other arguments without an explicit keyword will result in an error or misinterpretation.\n",
            "  FutureWarning\n"
          ]
        },
        {
          "output_type": "execute_result",
          "data": {
            "text/plain": [
              "Text(0, 0.5, 'Number of Employees')"
            ]
          },
          "metadata": {},
          "execution_count": 11
        },
        {
          "output_type": "display_data",
          "data": {
            "image/png": "[encoded data removed]",
            "text/plain": [
              "<Figure size 720x576 with 1 Axes>"
            ]
          },
          "metadata": {}
        }
      ]
    },
    {
      "cell_type": "markdown",
      "metadata": {
        "id": "JycrzcNCK3vD"
      },
      "source": [
        "**Observation**: We see that the dataset has a considerably higher amount of 0 values, indicating that the data\n",
        "has more rows that represent employees who did not achieve promotion. In other words, the data is biased.\n"
      ]
    },
    {
      "cell_type": "markdown",
      "metadata": {
        "id": "3AbTntLoLN4-"
      },
      "source": [
        "Next, we shall **Label Encode** the dataset so that it transforms the categorical values into numerical value so that the model can be trained.\n"
      ]
    },
    {
      "cell_type": "code",
      "metadata": {
        "id": "4zf8stJEK5jV"
      },
      "source": [
        "from sklearn.preprocessing import LabelEncoder\n",
        "le = LabelEncoder()"
      ],
      "execution_count": 12,
      "outputs": []
    },
    {
      "cell_type": "code",
      "metadata": {
        "id": "a3ijSx6GLfMh"
      },
      "source": [
        "cat_cols = [\"department\", \"region\", \"education\", \"gender\", \"recruitment_channel\"]"
      ],
      "execution_count": 13,
      "outputs": []
    },
    {
      "cell_type": "code",
      "metadata": {
        "id": "Q6nJFWNJLm4d"
      },
      "source": [
        "for col in cat_cols:\n",
        " emp_train[col] = le.fit_transform(emp_train[col])\n",
        " emp_test[col] = le.fit_transform(emp_test[col])"
      ],
      "execution_count": 14,
      "outputs": []
    },
    {
      "cell_type": "code",
      "metadata": {
        "colab": {
          "base_uri": "https://localhost:8080/",
          "height": 437
        },
        "id": "tDYdxWvELoMZ",
        "outputId": "fe5067e0-4c0f-4f4b-e200-e0557aa4395d"
      },
      "source": [
        "emp_train"
      ],
      "execution_count": 15,
      "outputs": [
        {
          "output_type": "execute_result",
          "data": {
            "text/html": [
              "<div>\n",
              "<style scoped>\n",
              "    .dataframe tbody tr th:only-of-type {\n",
              "        vertical-align: middle;\n",
              "    }\n",
              "\n",
              "    .dataframe tbody tr th {\n",
              "        vertical-align: top;\n",
              "    }\n",
              "\n",
              "    .dataframe thead th {\n",
              "        text-align: right;\n",
              "    }\n",
              "</style>\n",
              "<table border=\"1\" class=\"dataframe\">\n",
              "  <thead>\n",
              "    <tr style=\"text-align: right;\">\n",
              "      <th></th>\n",
              "      <th>department</th>\n",
              "      <th>region</th>\n",
              "      <th>education</th>\n",
              "      <th>gender</th>\n",
              "      <th>recruitment_channel</th>\n",
              "      <th>no_of_trainings</th>\n",
              "      <th>age</th>\n",
              "      <th>previous_year_rating</th>\n",
              "      <th>length_of_service</th>\n",
              "      <th>awards_won?</th>\n",
              "      <th>avg_training_score</th>\n",
              "      <th>is_promoted</th>\n",
              "    </tr>\n",
              "  </thead>\n",
              "  <tbody>\n",
              "    <tr>\n",
              "      <th>0</th>\n",
              "      <td>7</td>\n",
              "      <td>31</td>\n",
              "      <td>2</td>\n",
              "      <td>0</td>\n",
              "      <td>2</td>\n",
              "      <td>1</td>\n",
              "      <td>35</td>\n",
              "      <td>5</td>\n",
              "      <td>8</td>\n",
              "      <td>0</td>\n",
              "      <td>49</td>\n",
              "      <td>0</td>\n",
              "    </tr>\n",
              "    <tr>\n",
              "      <th>1</th>\n",
              "      <td>4</td>\n",
              "      <td>14</td>\n",
              "      <td>0</td>\n",
              "      <td>1</td>\n",
              "      <td>0</td>\n",
              "      <td>1</td>\n",
              "      <td>30</td>\n",
              "      <td>5</td>\n",
              "      <td>4</td>\n",
              "      <td>0</td>\n",
              "      <td>60</td>\n",
              "      <td>0</td>\n",
              "    </tr>\n",
              "    <tr>\n",
              "      <th>2</th>\n",
              "      <td>7</td>\n",
              "      <td>10</td>\n",
              "      <td>0</td>\n",
              "      <td>1</td>\n",
              "      <td>2</td>\n",
              "      <td>1</td>\n",
              "      <td>34</td>\n",
              "      <td>3</td>\n",
              "      <td>7</td>\n",
              "      <td>0</td>\n",
              "      <td>50</td>\n",
              "      <td>0</td>\n",
              "    </tr>\n",
              "    <tr>\n",
              "      <th>3</th>\n",
              "      <td>7</td>\n",
              "      <td>15</td>\n",
              "      <td>0</td>\n",
              "      <td>1</td>\n",
              "      <td>0</td>\n",
              "      <td>2</td>\n",
              "      <td>39</td>\n",
              "      <td>1</td>\n",
              "      <td>10</td>\n",
              "      <td>0</td>\n",
              "      <td>50</td>\n",
              "      <td>0</td>\n",
              "    </tr>\n",
              "    <tr>\n",
              "      <th>4</th>\n",
              "      <td>8</td>\n",
              "      <td>18</td>\n",
              "      <td>0</td>\n",
              "      <td>1</td>\n",
              "      <td>0</td>\n",
              "      <td>1</td>\n",
              "      <td>45</td>\n",
              "      <td>3</td>\n",
              "      <td>2</td>\n",
              "      <td>0</td>\n",
              "      <td>73</td>\n",
              "      <td>0</td>\n",
              "    </tr>\n",
              "    <tr>\n",
              "      <th>...</th>\n",
              "      <td>...</td>\n",
              "      <td>...</td>\n",
              "      <td>...</td>\n",
              "      <td>...</td>\n",
              "      <td>...</td>\n",
              "      <td>...</td>\n",
              "      <td>...</td>\n",
              "      <td>...</td>\n",
              "      <td>...</td>\n",
              "      <td>...</td>\n",
              "      <td>...</td>\n",
              "      <td>...</td>\n",
              "    </tr>\n",
              "    <tr>\n",
              "      <th>48655</th>\n",
              "      <td>7</td>\n",
              "      <td>5</td>\n",
              "      <td>0</td>\n",
              "      <td>1</td>\n",
              "      <td>0</td>\n",
              "      <td>2</td>\n",
              "      <td>31</td>\n",
              "      <td>1</td>\n",
              "      <td>2</td>\n",
              "      <td>0</td>\n",
              "      <td>49</td>\n",
              "      <td>0</td>\n",
              "    </tr>\n",
              "    <tr>\n",
              "      <th>48656</th>\n",
              "      <td>8</td>\n",
              "      <td>5</td>\n",
              "      <td>0</td>\n",
              "      <td>1</td>\n",
              "      <td>2</td>\n",
              "      <td>1</td>\n",
              "      <td>48</td>\n",
              "      <td>3</td>\n",
              "      <td>17</td>\n",
              "      <td>0</td>\n",
              "      <td>78</td>\n",
              "      <td>0</td>\n",
              "    </tr>\n",
              "    <tr>\n",
              "      <th>48657</th>\n",
              "      <td>4</td>\n",
              "      <td>19</td>\n",
              "      <td>2</td>\n",
              "      <td>0</td>\n",
              "      <td>0</td>\n",
              "      <td>1</td>\n",
              "      <td>37</td>\n",
              "      <td>2</td>\n",
              "      <td>6</td>\n",
              "      <td>0</td>\n",
              "      <td>56</td>\n",
              "      <td>0</td>\n",
              "    </tr>\n",
              "    <tr>\n",
              "      <th>48658</th>\n",
              "      <td>0</td>\n",
              "      <td>0</td>\n",
              "      <td>0</td>\n",
              "      <td>1</td>\n",
              "      <td>0</td>\n",
              "      <td>1</td>\n",
              "      <td>27</td>\n",
              "      <td>5</td>\n",
              "      <td>3</td>\n",
              "      <td>0</td>\n",
              "      <td>79</td>\n",
              "      <td>0</td>\n",
              "    </tr>\n",
              "    <tr>\n",
              "      <th>48659</th>\n",
              "      <td>2</td>\n",
              "      <td>14</td>\n",
              "      <td>0</td>\n",
              "      <td>1</td>\n",
              "      <td>0</td>\n",
              "      <td>1</td>\n",
              "      <td>27</td>\n",
              "      <td>1</td>\n",
              "      <td>5</td>\n",
              "      <td>0</td>\n",
              "      <td>49</td>\n",
              "      <td>0</td>\n",
              "    </tr>\n",
              "  </tbody>\n",
              "</table>\n",
              "<p>48660 rows × 12 columns</p>\n",
              "</div>"
            ],
            "text/plain": [
              "       department  region  ...  avg_training_score  is_promoted\n",
              "0               7      31  ...                  49            0\n",
              "1               4      14  ...                  60            0\n",
              "2               7      10  ...                  50            0\n",
              "3               7      15  ...                  50            0\n",
              "4               8      18  ...                  73            0\n",
              "...           ...     ...  ...                 ...          ...\n",
              "48655           7       5  ...                  49            0\n",
              "48656           8       5  ...                  78            0\n",
              "48657           4      19  ...                  56            0\n",
              "48658           0       0  ...                  79            0\n",
              "48659           2      14  ...                  49            0\n",
              "\n",
              "[48660 rows x 12 columns]"
            ]
          },
          "metadata": {},
          "execution_count": 15
        }
      ]
    },
    {
      "cell_type": "code",
      "metadata": {
        "colab": {
          "base_uri": "https://localhost:8080/",
          "height": 437
        },
        "id": "IKMxrUyYLr9o",
        "outputId": "bb04c951-3c4e-41a2-e057-09fad45da099"
      },
      "source": [
        "emp_test"
      ],
      "execution_count": 16,
      "outputs": [
        {
          "output_type": "execute_result",
          "data": {
            "text/html": [
              "<div>\n",
              "<style scoped>\n",
              "    .dataframe tbody tr th:only-of-type {\n",
              "        vertical-align: middle;\n",
              "    }\n",
              "\n",
              "    .dataframe tbody tr th {\n",
              "        vertical-align: top;\n",
              "    }\n",
              "\n",
              "    .dataframe thead th {\n",
              "        text-align: right;\n",
              "    }\n",
              "</style>\n",
              "<table border=\"1\" class=\"dataframe\">\n",
              "  <thead>\n",
              "    <tr style=\"text-align: right;\">\n",
              "      <th></th>\n",
              "      <th>department</th>\n",
              "      <th>region</th>\n",
              "      <th>education</th>\n",
              "      <th>gender</th>\n",
              "      <th>recruitment_channel</th>\n",
              "      <th>no_of_trainings</th>\n",
              "      <th>age</th>\n",
              "      <th>previous_year_rating</th>\n",
              "      <th>length_of_service</th>\n",
              "      <th>awards_won?</th>\n",
              "      <th>avg_training_score</th>\n",
              "    </tr>\n",
              "  </thead>\n",
              "  <tbody>\n",
              "    <tr>\n",
              "      <th>0</th>\n",
              "      <td>2</td>\n",
              "      <td>28</td>\n",
              "      <td>0</td>\n",
              "      <td>0</td>\n",
              "      <td>0</td>\n",
              "      <td>1</td>\n",
              "      <td>31</td>\n",
              "      <td>3</td>\n",
              "      <td>5</td>\n",
              "      <td>0</td>\n",
              "      <td>51</td>\n",
              "    </tr>\n",
              "    <tr>\n",
              "      <th>1</th>\n",
              "      <td>7</td>\n",
              "      <td>4</td>\n",
              "      <td>0</td>\n",
              "      <td>1</td>\n",
              "      <td>0</td>\n",
              "      <td>1</td>\n",
              "      <td>31</td>\n",
              "      <td>1</td>\n",
              "      <td>4</td>\n",
              "      <td>0</td>\n",
              "      <td>47</td>\n",
              "    </tr>\n",
              "    <tr>\n",
              "      <th>2</th>\n",
              "      <td>5</td>\n",
              "      <td>11</td>\n",
              "      <td>0</td>\n",
              "      <td>0</td>\n",
              "      <td>0</td>\n",
              "      <td>3</td>\n",
              "      <td>31</td>\n",
              "      <td>2</td>\n",
              "      <td>9</td>\n",
              "      <td>0</td>\n",
              "      <td>65</td>\n",
              "    </tr>\n",
              "    <tr>\n",
              "      <th>3</th>\n",
              "      <td>1</td>\n",
              "      <td>21</td>\n",
              "      <td>0</td>\n",
              "      <td>1</td>\n",
              "      <td>2</td>\n",
              "      <td>1</td>\n",
              "      <td>30</td>\n",
              "      <td>4</td>\n",
              "      <td>7</td>\n",
              "      <td>0</td>\n",
              "      <td>61</td>\n",
              "    </tr>\n",
              "    <tr>\n",
              "      <th>4</th>\n",
              "      <td>5</td>\n",
              "      <td>31</td>\n",
              "      <td>0</td>\n",
              "      <td>1</td>\n",
              "      <td>2</td>\n",
              "      <td>1</td>\n",
              "      <td>36</td>\n",
              "      <td>3</td>\n",
              "      <td>2</td>\n",
              "      <td>0</td>\n",
              "      <td>68</td>\n",
              "    </tr>\n",
              "    <tr>\n",
              "      <th>...</th>\n",
              "      <td>...</td>\n",
              "      <td>...</td>\n",
              "      <td>...</td>\n",
              "      <td>...</td>\n",
              "      <td>...</td>\n",
              "      <td>...</td>\n",
              "      <td>...</td>\n",
              "      <td>...</td>\n",
              "      <td>...</td>\n",
              "      <td>...</td>\n",
              "      <td>...</td>\n",
              "    </tr>\n",
              "    <tr>\n",
              "      <th>20814</th>\n",
              "      <td>7</td>\n",
              "      <td>12</td>\n",
              "      <td>0</td>\n",
              "      <td>1</td>\n",
              "      <td>0</td>\n",
              "      <td>1</td>\n",
              "      <td>28</td>\n",
              "      <td>4</td>\n",
              "      <td>2</td>\n",
              "      <td>0</td>\n",
              "      <td>51</td>\n",
              "    </tr>\n",
              "    <tr>\n",
              "      <th>20815</th>\n",
              "      <td>3</td>\n",
              "      <td>11</td>\n",
              "      <td>1</td>\n",
              "      <td>1</td>\n",
              "      <td>2</td>\n",
              "      <td>1</td>\n",
              "      <td>24</td>\n",
              "      <td>3</td>\n",
              "      <td>1</td>\n",
              "      <td>0</td>\n",
              "      <td>61</td>\n",
              "    </tr>\n",
              "    <tr>\n",
              "      <th>20816</th>\n",
              "      <td>8</td>\n",
              "      <td>17</td>\n",
              "      <td>0</td>\n",
              "      <td>1</td>\n",
              "      <td>2</td>\n",
              "      <td>1</td>\n",
              "      <td>31</td>\n",
              "      <td>3</td>\n",
              "      <td>7</td>\n",
              "      <td>0</td>\n",
              "      <td>74</td>\n",
              "    </tr>\n",
              "    <tr>\n",
              "      <th>20817</th>\n",
              "      <td>2</td>\n",
              "      <td>7</td>\n",
              "      <td>0</td>\n",
              "      <td>0</td>\n",
              "      <td>2</td>\n",
              "      <td>1</td>\n",
              "      <td>26</td>\n",
              "      <td>4</td>\n",
              "      <td>4</td>\n",
              "      <td>0</td>\n",
              "      <td>50</td>\n",
              "    </tr>\n",
              "    <tr>\n",
              "      <th>20818</th>\n",
              "      <td>8</td>\n",
              "      <td>8</td>\n",
              "      <td>2</td>\n",
              "      <td>1</td>\n",
              "      <td>0</td>\n",
              "      <td>3</td>\n",
              "      <td>40</td>\n",
              "      <td>5</td>\n",
              "      <td>5</td>\n",
              "      <td>0</td>\n",
              "      <td>89</td>\n",
              "    </tr>\n",
              "  </tbody>\n",
              "</table>\n",
              "<p>20819 rows × 11 columns</p>\n",
              "</div>"
            ],
            "text/plain": [
              "       department  region  ...  awards_won?  avg_training_score\n",
              "0               2      28  ...            0                  51\n",
              "1               7       4  ...            0                  47\n",
              "2               5      11  ...            0                  65\n",
              "3               1      21  ...            0                  61\n",
              "4               5      31  ...            0                  68\n",
              "...           ...     ...  ...          ...                 ...\n",
              "20814           7      12  ...            0                  51\n",
              "20815           3      11  ...            0                  61\n",
              "20816           8      17  ...            0                  74\n",
              "20817           2       7  ...            0                  50\n",
              "20818           8       8  ...            0                  89\n",
              "\n",
              "[20819 rows x 11 columns]"
            ]
          },
          "metadata": {},
          "execution_count": 16
        }
      ]
    },
    {
      "cell_type": "markdown",
      "metadata": {
        "id": "_7whfnChNiXr"
      },
      "source": [
        "SPLIT THE DATASET INTO TRAINING AND TEST SET\n",
        "\n",
        "---\n",
        "\n",
        "\n",
        "\n",
        "---\n",
        "\n"
      ]
    },
    {
      "cell_type": "code",
      "metadata": {
        "id": "f9Ga8l1fNgRQ"
      },
      "source": [
        "x = emp_train.drop(\"is_promoted\", axis = 1)\n",
        "y = emp_train[\"is_promoted\"]"
      ],
      "execution_count": 17,
      "outputs": []
    },
    {
      "cell_type": "code",
      "metadata": {
        "id": "FBrDyWVCNv_3"
      },
      "source": [
        "from sklearn.model_selection import train_test_split\n",
        "x_train, x_test, y_train, y_test = train_test_split(x, y, test_size = 0.3, random_state = 1)"
      ],
      "execution_count": 18,
      "outputs": []
    },
    {
      "cell_type": "code",
      "metadata": {
        "colab": {
          "base_uri": "https://localhost:8080/",
          "height": 0
        },
        "id": "HyT9jZytN2ER",
        "outputId": "f7901c6f-4af3-421c-f4ae-9963ed1ff341"
      },
      "source": [
        "x_train.shape"
      ],
      "execution_count": 19,
      "outputs": [
        {
          "output_type": "execute_result",
          "data": {
            "text/plain": [
              "(34062, 11)"
            ]
          },
          "metadata": {},
          "execution_count": 19
        }
      ]
    },
    {
      "cell_type": "code",
      "metadata": {
        "colab": {
          "base_uri": "https://localhost:8080/",
          "height": 0
        },
        "id": "z7B_NEbbOCom",
        "outputId": "cf0a5ece-dc1f-41ab-ddd1-16ef84dd5a0d"
      },
      "source": [
        "# reshaping the y_train variable\n",
        "y_train = np.array(y_train).reshape(-1, 1)\n",
        "y_train.shape"
      ],
      "execution_count": 20,
      "outputs": [
        {
          "output_type": "execute_result",
          "data": {
            "text/plain": [
              "(34062, 1)"
            ]
          },
          "metadata": {},
          "execution_count": 20
        }
      ]
    },
    {
      "cell_type": "code",
      "metadata": {
        "id": "5xMfvoNEOIVg"
      },
      "source": [
        "# we use ravel to convert our y_train into one array of 0s and 1s.\n",
        "y_train = np.ravel(y_train)\n"
      ],
      "execution_count": 21,
      "outputs": []
    },
    {
      "cell_type": "code",
      "metadata": {
        "colab": {
          "base_uri": "https://localhost:8080/",
          "height": 0
        },
        "id": "8Bg4cJ7YOKQM",
        "outputId": "eea0eac5-074f-473f-b713-e60bc88d9488"
      },
      "source": [
        "y_train"
      ],
      "execution_count": 22,
      "outputs": [
        {
          "output_type": "execute_result",
          "data": {
            "text/plain": [
              "array([0, 0, 0, ..., 0, 0, 0])"
            ]
          },
          "metadata": {},
          "execution_count": 22
        }
      ]
    },
    {
      "cell_type": "code",
      "metadata": {
        "id": "7vftuB67OMNd"
      },
      "source": [
        "y_test = np.ravel(y_test)"
      ],
      "execution_count": 23,
      "outputs": []
    },
    {
      "cell_type": "code",
      "metadata": {
        "colab": {
          "base_uri": "https://localhost:8080/",
          "height": 0
        },
        "id": "LSMOpsmyPIYX",
        "outputId": "c23e7b59-1baf-4c5b-eb92-717be5a89ef2"
      },
      "source": [
        "y_test"
      ],
      "execution_count": 24,
      "outputs": [
        {
          "output_type": "execute_result",
          "data": {
            "text/plain": [
              "array([0, 0, 0, ..., 0, 0, 0])"
            ]
          },
          "metadata": {},
          "execution_count": 24
        }
      ]
    },
    {
      "cell_type": "code",
      "metadata": {
        "colab": {
          "base_uri": "https://localhost:8080/",
          "height": 0
        },
        "id": "tge37KVrPJVq",
        "outputId": "76c56091-3479-448c-9bef-9824e97f6d30"
      },
      "source": [
        "emp_test.shape"
      ],
      "execution_count": 25,
      "outputs": [
        {
          "output_type": "execute_result",
          "data": {
            "text/plain": [
              "(20819, 11)"
            ]
          },
          "metadata": {},
          "execution_count": 25
        }
      ]
    },
    {
      "cell_type": "markdown",
      "metadata": {
        "id": "AkbohmsNQZKO"
      },
      "source": [
        "In order to prevent data leakage we shall use Normalization"
      ]
    },
    {
      "cell_type": "code",
      "metadata": {
        "id": "2oW5bht-PWCv"
      },
      "source": [
        "from sklearn.preprocessing import MinMaxScaler\n",
        "scalar = MinMaxScaler()"
      ],
      "execution_count": 26,
      "outputs": []
    },
    {
      "cell_type": "code",
      "metadata": {
        "id": "ChogIf5VQhJS"
      },
      "source": [
        "scalar.fit(x_train)\n",
        "x_train = scalar.transform(x_train)\n",
        "x_test = scalar.transform(x_test)\n",
        "emp_test = scalar.transform(emp_test)"
      ],
      "execution_count": 27,
      "outputs": []
    },
    {
      "cell_type": "markdown",
      "metadata": {
        "id": "PxBYbuQpTHmK"
      },
      "source": [
        "Testing the performance on the test dataset"
      ]
    },
    {
      "cell_type": "markdown",
      "metadata": {
        "id": "w93iH-lNQsFp"
      },
      "source": [
        "RANDOM FOREST CLASSIFICATION"
      ]
    },
    {
      "cell_type": "code",
      "metadata": {
        "id": "R0aDEHdCQqiG"
      },
      "source": [
        "from sklearn.ensemble import RandomForestClassifier\n",
        "rfor = RandomForestClassifier()"
      ],
      "execution_count": 28,
      "outputs": []
    },
    {
      "cell_type": "code",
      "metadata": {
        "colab": {
          "base_uri": "https://localhost:8080/",
          "height": 0
        },
        "id": "MjyG3CeEQ5y4",
        "outputId": "e72b0aaf-cad2-4f19-a2ac-d6f5491c872f"
      },
      "source": [
        "rfor.fit(x_train, y_train)"
      ],
      "execution_count": 29,
      "outputs": [
        {
          "output_type": "execute_result",
          "data": {
            "text/plain": [
              "RandomForestClassifier(bootstrap=True, ccp_alpha=0.0, class_weight=None,\n",
              "                       criterion='gini', max_depth=None, max_features='auto',\n",
              "                       max_leaf_nodes=None, max_samples=None,\n",
              "                       min_impurity_decrease=0.0, min_impurity_split=None,\n",
              "                       min_samples_leaf=1, min_samples_split=2,\n",
              "                       min_weight_fraction_leaf=0.0, n_estimators=100,\n",
              "                       n_jobs=None, oob_score=False, random_state=None,\n",
              "                       verbose=0, warm_start=False)"
            ]
          },
          "metadata": {},
          "execution_count": 29
        }
      ]
    },
    {
      "cell_type": "code",
      "metadata": {
        "id": "wy8IOYBKQ_Eg"
      },
      "source": [
        "y_pred_rf = rfor .predict(x_test)"
      ],
      "execution_count": 30,
      "outputs": []
    },
    {
      "cell_type": "code",
      "metadata": {
        "colab": {
          "base_uri": "https://localhost:8080/",
          "height": 0
        },
        "id": "m0yrfqQTRBx-",
        "outputId": "34df24d7-dc4a-41d3-cc01-53cf7194f18e"
      },
      "source": [
        "y_pred_rf"
      ],
      "execution_count": 31,
      "outputs": [
        {
          "output_type": "execute_result",
          "data": {
            "text/plain": [
              "array([0, 0, 1, ..., 0, 0, 0])"
            ]
          },
          "metadata": {},
          "execution_count": 31
        }
      ]
    },
    {
      "cell_type": "code",
      "metadata": {
        "id": "k3qfVdZtREaT"
      },
      "source": [
        "from sklearn.metrics import classification_report, roc_curve, roc_auc_score, confusion_matrix"
      ],
      "execution_count": 32,
      "outputs": []
    },
    {
      "cell_type": "code",
      "metadata": {
        "colab": {
          "base_uri": "https://localhost:8080/",
          "height": 0
        },
        "id": "0hYIjK0bRZWj",
        "outputId": "c75d2a09-5692-4e0e-a566-54f780d2cbb8"
      },
      "source": [
        "confusion_matrix(y_test, y_pred_rf)"
      ],
      "execution_count": 33,
      "outputs": [
        {
          "output_type": "execute_result",
          "data": {
            "text/plain": [
              "array([[13243,    62],\n",
              "       [  967,   326]])"
            ]
          },
          "metadata": {},
          "execution_count": 33
        }
      ]
    },
    {
      "cell_type": "code",
      "metadata": {
        "colab": {
          "base_uri": "https://localhost:8080/",
          "height": 0
        },
        "id": "3IKT3hhbWYTm",
        "outputId": "5235f650-6877-4d49-e70b-8659c33382fe"
      },
      "source": [
        "print(classification_report(y_test,y_pred_rf))"
      ],
      "execution_count": 34,
      "outputs": [
        {
          "output_type": "stream",
          "name": "stdout",
          "text": [
            "              precision    recall  f1-score   support\n",
            "\n",
            "           0       0.93      1.00      0.96     13305\n",
            "           1       0.84      0.25      0.39      1293\n",
            "\n",
            "    accuracy                           0.93     14598\n",
            "   macro avg       0.89      0.62      0.68     14598\n",
            "weighted avg       0.92      0.93      0.91     14598\n",
            "\n"
          ]
        }
      ]
    },
    {
      "cell_type": "code",
      "metadata": {
        "id": "8QhFw_RSRdZV"
      },
      "source": [
        "fpr, tpr, threshold = roc_curve(y_test, y_pred_rf)"
      ],
      "execution_count": 35,
      "outputs": []
    },
    {
      "cell_type": "code",
      "metadata": {
        "colab": {
          "base_uri": "https://localhost:8080/",
          "height": 0
        },
        "id": "2dPdExn_Rk84",
        "outputId": "48e72532-0f9f-4798-d78e-53a5895b8e7a"
      },
      "source": [
        "print('roc_auc_score for Random Forest model: ', roc_auc_score(y_test, y_pred_rf))"
      ],
      "execution_count": 36,
      "outputs": [
        {
          "output_type": "stream",
          "name": "stdout",
          "text": [
            "roc_auc_score for Random Forest model:  0.6237334672606202\n"
          ]
        }
      ]
    },
    {
      "cell_type": "code",
      "metadata": {
        "colab": {
          "base_uri": "https://localhost:8080/",
          "height": 627
        },
        "id": "5LhuuPpXRnYJ",
        "outputId": "48fd387c-af2e-4c55-e0da-1b00656a34c7"
      },
      "source": [
        "# PLOTTING THE ROC curve\n",
        "plt.subplots(1, figsize=(10,10))\n",
        "plt.title('Receiver Operating Characteristic - Random Forest')\n",
        "plt.plot(fpr, tpr)\n",
        "plt.plot([0, 1], ls=\"--\")\n",
        "plt.plot([0, 0], [1, 0] , c=\".7\"), plt.plot([1, 1] , c=\".7\")\n",
        "plt.ylabel('True Positive Rate')\n",
        "plt.xlabel('False Positive Rate')\n",
        "plt.show()"
      ],
      "execution_count": 37,
      "outputs": [
        {
          "output_type": "display_data",
          "data": {
            "image/png": "[encoded data removed]",
            "text/plain": [
              "<Figure size 720x720 with 1 Axes>"
            ]
          },
          "metadata": {}
        }
      ]
    },
    {
      "cell_type": "code",
      "metadata": {
        "id": "Lj6GyW3fSdIb"
      },
      "source": [
        "from sklearn.ensemble import RandomForestClassifier\n",
        "rfor = RandomForestClassifier()\n"
      ],
      "execution_count": 38,
      "outputs": []
    },
    {
      "cell_type": "code",
      "metadata": {
        "colab": {
          "base_uri": "https://localhost:8080/",
          "height": 0
        },
        "id": "hkRo9xqzSfdj",
        "outputId": "4beaf472-c689-4ea7-fc07-40c7ec14e072"
      },
      "source": [
        "rfor.fit(x_train, y_train)"
      ],
      "execution_count": 39,
      "outputs": [
        {
          "output_type": "execute_result",
          "data": {
            "text/plain": [
              "RandomForestClassifier(bootstrap=True, ccp_alpha=0.0, class_weight=None,\n",
              "                       criterion='gini', max_depth=None, max_features='auto',\n",
              "                       max_leaf_nodes=None, max_samples=None,\n",
              "                       min_impurity_decrease=0.0, min_impurity_split=None,\n",
              "                       min_samples_leaf=1, min_samples_split=2,\n",
              "                       min_weight_fraction_leaf=0.0, n_estimators=100,\n",
              "                       n_jobs=None, oob_score=False, random_state=None,\n",
              "                       verbose=0, warm_start=False)"
            ]
          },
          "metadata": {},
          "execution_count": 39
        }
      ]
    },
    {
      "cell_type": "code",
      "metadata": {
        "colab": {
          "base_uri": "https://localhost:8080/",
          "height": 0
        },
        "id": "HI-VODD5SB5U",
        "outputId": "a97563da-7c9f-40c6-e023-e61cbc60515d"
      },
      "source": [
        "y_pred_rf"
      ],
      "execution_count": 40,
      "outputs": [
        {
          "output_type": "execute_result",
          "data": {
            "text/plain": [
              "array([0, 0, 1, ..., 0, 0, 0])"
            ]
          },
          "metadata": {},
          "execution_count": 40
        }
      ]
    },
    {
      "cell_type": "markdown",
      "metadata": {
        "id": "lkKExsiFSFgi"
      },
      "source": [
        "Scores for Random Forest model\n",
        " \n",
        "*   Accuracy: 0.93\n",
        "*   Precision: 0.93\n",
        " \n",
        "\n",
        "\n",
        "\n",
        "\n",
        "\n",
        "\n"
      ]
    },
    {
      "cell_type": "markdown",
      "metadata": {
        "id": "bRgyBN9hyQDg"
      },
      "source": [
        "DECISION TREE CLASSSIFIER\n",
        "\n",
        "---\n",
        "\n",
        "\n",
        "\n",
        "---\n",
        "\n"
      ]
    },
    {
      "cell_type": "code",
      "metadata": {
        "id": "KKUcNT3ByTrN"
      },
      "source": [
        "from sklearn.tree import DecisionTreeClassifier\n",
        "tree = DecisionTreeClassifier()\n"
      ],
      "execution_count": 41,
      "outputs": []
    },
    {
      "cell_type": "code",
      "metadata": {
        "colab": {
          "base_uri": "https://localhost:8080/",
          "height": 0
        },
        "id": "05qXcfRlygZU",
        "outputId": "59712664-2d88-4778-f20e-0ba3f66b07ed"
      },
      "source": [
        "tree.fit(x_train, y_train)\n"
      ],
      "execution_count": 42,
      "outputs": [
        {
          "output_type": "execute_result",
          "data": {
            "text/plain": [
              "DecisionTreeClassifier(ccp_alpha=0.0, class_weight=None, criterion='gini',\n",
              "                       max_depth=None, max_features=None, max_leaf_nodes=None,\n",
              "                       min_impurity_decrease=0.0, min_impurity_split=None,\n",
              "                       min_samples_leaf=1, min_samples_split=2,\n",
              "                       min_weight_fraction_leaf=0.0, presort='deprecated',\n",
              "                       random_state=None, splitter='best')"
            ]
          },
          "metadata": {},
          "execution_count": 42
        }
      ]
    },
    {
      "cell_type": "code",
      "metadata": {
        "id": "qF9QZFlryi_D"
      },
      "source": [
        "y_pred_tree = tree.predict(x_test)"
      ],
      "execution_count": 43,
      "outputs": []
    },
    {
      "cell_type": "code",
      "metadata": {
        "colab": {
          "base_uri": "https://localhost:8080/",
          "height": 0
        },
        "id": "7Ec1n79VymT_",
        "outputId": "2d57599a-c93f-4f8c-ca3c-e876eb19e849"
      },
      "source": [
        "y_pred_tree"
      ],
      "execution_count": 44,
      "outputs": [
        {
          "output_type": "execute_result",
          "data": {
            "text/plain": [
              "array([0, 0, 1, ..., 0, 0, 0])"
            ]
          },
          "metadata": {},
          "execution_count": 44
        }
      ]
    },
    {
      "cell_type": "code",
      "metadata": {
        "id": "XT6w9x8PzW3q"
      },
      "source": [
        "from sklearn.metrics import classification_report, roc_curve, roc_auc_score, confusion_matrix"
      ],
      "execution_count": 45,
      "outputs": []
    },
    {
      "cell_type": "code",
      "metadata": {
        "colab": {
          "base_uri": "https://localhost:8080/",
          "height": 0
        },
        "id": "iiwskpqUze_g",
        "outputId": "b2618fc3-4991-4426-dd2d-8bb5656b904d"
      },
      "source": [
        "print(classification_report(y_test,y_pred_tree))\n"
      ],
      "execution_count": 46,
      "outputs": [
        {
          "output_type": "stream",
          "name": "stdout",
          "text": [
            "              precision    recall  f1-score   support\n",
            "\n",
            "           0       0.94      0.93      0.93     13305\n",
            "           1       0.35      0.41      0.37      1293\n",
            "\n",
            "    accuracy                           0.88     14598\n",
            "   macro avg       0.64      0.67      0.65     14598\n",
            "weighted avg       0.89      0.88      0.88     14598\n",
            "\n"
          ]
        }
      ]
    },
    {
      "cell_type": "code",
      "metadata": {
        "colab": {
          "base_uri": "https://localhost:8080/",
          "height": 0
        },
        "id": "avcDd8PZzjHN",
        "outputId": "cc6856e1-69e8-4e6f-d039-1107413249fa"
      },
      "source": [
        "confusion_matrix(y_test, y_pred_tree)"
      ],
      "execution_count": 47,
      "outputs": [
        {
          "output_type": "execute_result",
          "data": {
            "text/plain": [
              "array([[12311,   994],\n",
              "       [  769,   524]])"
            ]
          },
          "metadata": {},
          "execution_count": 47
        }
      ]
    },
    {
      "cell_type": "markdown",
      "metadata": {
        "id": "y-tI84bU0wgY"
      },
      "source": [
        "Scores for Decision Tree model\n",
        "\n",
        "\n",
        "1.   Accuracy: 0.88 \n",
        "2.   Precision: 0.94\n",
        "3.   Recall: 0.93\n",
        "4.   F1 Score: 0.93\n",
        "\n",
        "\n",
        "\n",
        "\n"
      ]
    },
    {
      "cell_type": "code",
      "metadata": {
        "id": "eN3MCo8rzl14"
      },
      "source": [
        "fpr, tpr, threshold = roc_curve(y_test, y_pred_tree)"
      ],
      "execution_count": 48,
      "outputs": []
    },
    {
      "cell_type": "code",
      "metadata": {
        "colab": {
          "base_uri": "https://localhost:8080/",
          "height": 0
        },
        "id": "JB61TqWS1Mok",
        "outputId": "f74a43f0-6865-4026-ad5a-b9272c95abc1"
      },
      "source": [
        "print('roc_auc_score for Decision tree Model: ', roc_auc_score(y_test, y_pred_tree))"
      ],
      "execution_count": 49,
      "outputs": [
        {
          "output_type": "stream",
          "name": "stdout",
          "text": [
            "roc_auc_score for Decision tree Model:  0.6652751656434657\n"
          ]
        }
      ]
    },
    {
      "cell_type": "code",
      "metadata": {
        "colab": {
          "base_uri": "https://localhost:8080/",
          "height": 627
        },
        "id": "aW2Y5-0i1T3g",
        "outputId": "ce5f5c8b-ecdc-46e9-ab61-d0c48b51a999"
      },
      "source": [
        "plt.subplots(1, figsize=(10,10))\n",
        "plt.title('Receiver Operating Characteristic - Decision Tree')\n",
        "plt.plot(fpr, tpr)\n",
        "plt.plot([0, 1], ls=\"--\")\n",
        "plt.plot([0, 0], [1, 0] , c=\".7\"), plt.plot([1, 1] , c=\".7\")\n",
        "plt.ylabel('True Positive Rate')\n",
        "plt.xlabel('False Positive Rate')\n",
        "plt.show()"
      ],
      "execution_count": 50,
      "outputs": [
        {
          "output_type": "display_data",
          "data": {
            "image/png": "[encoded data removed]",
            "text/plain": [
              "<Figure size 720x720 with 1 Axes>"
            ]
          },
          "metadata": {}
        }
      ]
    },
    {
      "cell_type": "markdown",
      "metadata": {
        "id": "qJNJlrq81dax"
      },
      "source": [
        "LOGISTIC REGRESSION\n",
        "\n",
        "---\n",
        "\n",
        "\n",
        "\n",
        "---\n",
        "\n",
        "\n",
        "\n"
      ]
    },
    {
      "cell_type": "code",
      "metadata": {
        "id": "Z1fxcorm1ZhD"
      },
      "source": [
        "from sklearn.linear_model import LogisticRegression\n",
        "log_reg = LogisticRegression()\n"
      ],
      "execution_count": 51,
      "outputs": []
    },
    {
      "cell_type": "code",
      "metadata": {
        "colab": {
          "base_uri": "https://localhost:8080/",
          "height": 0
        },
        "id": "0nGwoyXB1kba",
        "outputId": "45253172-c808-4eb0-e6b2-18e070962d1d"
      },
      "source": [
        "log_reg.fit(x_train, y_train)\n"
      ],
      "execution_count": 52,
      "outputs": [
        {
          "output_type": "execute_result",
          "data": {
            "text/plain": [
              "LogisticRegression(C=1.0, class_weight=None, dual=False, fit_intercept=True,\n",
              "                   intercept_scaling=1, l1_ratio=None, max_iter=100,\n",
              "                   multi_class='auto', n_jobs=None, penalty='l2',\n",
              "                   random_state=None, solver='lbfgs', tol=0.0001, verbose=0,\n",
              "                   warm_start=False)"
            ]
          },
          "metadata": {},
          "execution_count": 52
        }
      ]
    },
    {
      "cell_type": "code",
      "metadata": {
        "colab": {
          "base_uri": "https://localhost:8080/",
          "height": 0
        },
        "id": "mHOFMqq41m_3",
        "outputId": "198cd807-c5dc-40ee-e111-51a41f4186c9"
      },
      "source": [
        "log_reg.coef_"
      ],
      "execution_count": 53,
      "outputs": [
        {
          "output_type": "execute_result",
          "data": {
            "text/plain": [
              "array([[ 0.58937198,  0.06917208,  0.25758813, -0.08549369,  0.00755579,\n",
              "        -1.53208468, -0.76281697,  2.10687189,  0.51127388,  2.05395643,\n",
              "         2.72319113]])"
            ]
          },
          "metadata": {},
          "execution_count": 53
        }
      ]
    },
    {
      "cell_type": "code",
      "metadata": {
        "colab": {
          "base_uri": "https://localhost:8080/",
          "height": 0
        },
        "id": "68TnIJTE1p5b",
        "outputId": "258f4323-953c-4eea-d231-929c134dc958"
      },
      "source": [
        "log_reg.intercept_\n"
      ],
      "execution_count": 55,
      "outputs": [
        {
          "output_type": "execute_result",
          "data": {
            "text/plain": [
              "array([-5.29327393])"
            ]
          },
          "metadata": {},
          "execution_count": 55
        }
      ]
    },
    {
      "cell_type": "code",
      "metadata": {
        "id": "gYybnD4p1vRj"
      },
      "source": [
        "y_pred_lr = log_reg.predict(x_test)"
      ],
      "execution_count": 56,
      "outputs": []
    },
    {
      "cell_type": "code",
      "metadata": {
        "colab": {
          "base_uri": "https://localhost:8080/",
          "height": 0
        },
        "id": "4MXX75zI1yOG",
        "outputId": "82bb7f0a-a296-4dac-87cb-08557a51ed9d"
      },
      "source": [
        "y_pred_lr"
      ],
      "execution_count": 57,
      "outputs": [
        {
          "output_type": "execute_result",
          "data": {
            "text/plain": [
              "array([0, 0, 0, ..., 0, 0, 0])"
            ]
          },
          "metadata": {},
          "execution_count": 57
        }
      ]
    },
    {
      "cell_type": "code",
      "metadata": {
        "id": "JxYse1LW13wO"
      },
      "source": [
        "from sklearn.metrics import classification_report, roc_curve, roc_auc_score, confusion_matrix"
      ],
      "execution_count": 58,
      "outputs": []
    },
    {
      "cell_type": "code",
      "metadata": {
        "colab": {
          "base_uri": "https://localhost:8080/",
          "height": 0
        },
        "id": "JjW07qA915Ba",
        "outputId": "1746f522-476c-4c51-d446-967fa4e773f4"
      },
      "source": [
        "print(classification_report(y_test,y_pred_lr))"
      ],
      "execution_count": 59,
      "outputs": [
        {
          "output_type": "stream",
          "name": "stdout",
          "text": [
            "              precision    recall  f1-score   support\n",
            "\n",
            "           0       0.92      1.00      0.96     13305\n",
            "           1       0.73      0.08      0.14      1293\n",
            "\n",
            "    accuracy                           0.92     14598\n",
            "   macro avg       0.83      0.54      0.55     14598\n",
            "weighted avg       0.90      0.92      0.88     14598\n",
            "\n"
          ]
        }
      ]
    },
    {
      "cell_type": "code",
      "metadata": {
        "colab": {
          "base_uri": "https://localhost:8080/",
          "height": 0
        },
        "id": "8C9aSlxQ18nD",
        "outputId": "8bd8b67e-2b72-4be0-e31e-8bc98cf3aebc"
      },
      "source": [
        "confusion_matrix(y_test, y_pred_lr)\n"
      ],
      "execution_count": 60,
      "outputs": [
        {
          "output_type": "execute_result",
          "data": {
            "text/plain": [
              "array([[13270,    35],\n",
              "       [ 1196,    97]])"
            ]
          },
          "metadata": {},
          "execution_count": 60
        }
      ]
    },
    {
      "cell_type": "code",
      "metadata": {
        "id": "IW1m69nb2Bd9"
      },
      "source": [
        "fpr, tpr, threshold = roc_curve(y_test, y_pred_lr)"
      ],
      "execution_count": 61,
      "outputs": []
    },
    {
      "cell_type": "code",
      "metadata": {
        "colab": {
          "base_uri": "https://localhost:8080/",
          "height": 0
        },
        "id": "8Bibe7uc2EHK",
        "outputId": "ad75fc50-be01-4b56-e741-35b916accaa8"
      },
      "source": [
        "print('roc_auc_score for Logistic Regression Model: ', roc_auc_score(y_test, y_pred_lr))"
      ],
      "execution_count": 62,
      "outputs": [
        {
          "output_type": "stream",
          "name": "stdout",
          "text": [
            "roc_auc_score for Logistic Regression Model:  0.5361943724381829\n"
          ]
        }
      ]
    },
    {
      "cell_type": "code",
      "metadata": {
        "colab": {
          "base_uri": "https://localhost:8080/",
          "height": 627
        },
        "id": "79Pts5Jh2H-G",
        "outputId": "b1653227-aa39-4203-b811-73cc59377a4c"
      },
      "source": [
        "plt.subplots(1, figsize=(10,10))\n",
        "plt.title('Receiver Operating Characteristic - Logistic Regression Model')\n",
        "plt.plot(fpr, tpr)\n",
        "plt.plot([0, 1], ls=\"--\")\n",
        "plt.plot([0, 0], [1, 0] , c=\".7\"), plt.plot([1, 1] , c=\".7\")\n",
        "plt.ylabel('True Positive Rate')\n",
        "plt.xlabel('False Positive Rate')\n",
        "plt.show()"
      ],
      "execution_count": 63,
      "outputs": [
        {
          "output_type": "display_data",
          "data": {
            "image/png": "[encoded data removed]",
            "text/plain": [
              "<Figure size 720x720 with 1 Axes>"
            ]
          },
          "metadata": {}
        }
      ]
    },
    {
      "cell_type": "markdown",
      "metadata": {
        "id": "zKmoHuKk2K_A"
      },
      "source": [
        "We find that the AUC for the Decision Tree model is the highest among all the 3 models we considered. \n",
        "But the accuracy scores are highest for the Random Forest model.\n",
        "As a result of that, we will use Random Forest model for our emp_test data set to maximize accuracy.\n"
      ]
    },
    {
      "cell_type": "code",
      "metadata": {
        "id": "XtJFI3De2P7B"
      },
      "source": [
        ""
      ],
      "execution_count": null,
      "outputs": []
    }
  ]
}